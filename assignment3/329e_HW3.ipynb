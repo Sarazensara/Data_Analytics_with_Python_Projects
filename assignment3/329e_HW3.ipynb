{
 "cells": [
  {
   "cell_type": "markdown",
   "metadata": {},
   "source": [
    "# Homework 3\n",
    "\n",
    "## Odette Saenz oss286\n",
    "\n",
    "## Normal and t distributions\n",
    "## t-test\n"
   ]
  },
  {
   "cell_type": "markdown",
   "metadata": {},
   "source": [
    "An experiment was conducted to determine the effect of children participating in a given meal preparation on calorie intake for that meal. Data are recorded below. \n",
    "\n",
    "Save the data to a format that can be read into python. Read the data in for analysis. Data is provided in two separted CSV files. \n",
    "\n",
    "* Use python to calculate the quantities and generate the visual summaries requested below. You will lose points if you are not utilizing python.\n",
    "\n",
    "* You can use scipy libary or other libraries to do your tests or you can implement them from scratch in python \n",
    "\n"
   ]
  },
  {
   "cell_type": "code",
   "execution_count": 23,
   "metadata": {},
   "outputs": [],
   "source": [
    "# Standard Headers\n",
    "# You are welcome to add additional headers here if you wish\n",
    "import pandas as pd\n",
    "import numpy as np\n",
    "import matplotlib.pyplot as plt\n",
    "\n",
    "# Enable inline mode for matplotlib so that Jupyter displays graphs\n",
    "%matplotlib inline"
   ]
  },
  {
   "cell_type": "markdown",
   "metadata": {},
   "source": [
    "# Question - 1\n",
    "Summarize the data by whether children participated in the meal preparation or not. Use an appropriately labelled table to show the results. Also include a graphical presentation that shows the distribution of calories for participants vs. non-participants. Describe the shape of each distribution and comment on the similarity (or lack thereof) between the distributions in each population. **(2 points)**\n",
    "\n",
    "Be aware that there is not one specific way the graph needs to look. Experiment with different types of graphs, and different parameters for the graph type. Your goal is to present the data as readable as possible. "
   ]
  },
  {
   "cell_type": "code",
   "execution_count": 33,
   "metadata": {},
   "outputs": [
    {
     "data": {
      "text/html": [
       "<div>\n",
       "<style scoped>\n",
       "    .dataframe tbody tr th:only-of-type {\n",
       "        vertical-align: middle;\n",
       "    }\n",
       "\n",
       "    .dataframe tbody tr th {\n",
       "        vertical-align: top;\n",
       "    }\n",
       "\n",
       "    .dataframe thead th {\n",
       "        text-align: right;\n",
       "    }\n",
       "</style>\n",
       "<table border=\"1\" class=\"dataframe\">\n",
       "  <thead>\n",
       "    <tr style=\"text-align: right;\">\n",
       "      <th></th>\n",
       "      <th>count</th>\n",
       "      <th>mean</th>\n",
       "      <th>std</th>\n",
       "      <th>min</th>\n",
       "      <th>25%</th>\n",
       "      <th>50%</th>\n",
       "      <th>75%</th>\n",
       "      <th>max</th>\n",
       "    </tr>\n",
       "    <tr>\n",
       "      <th>participation</th>\n",
       "      <th></th>\n",
       "      <th></th>\n",
       "      <th></th>\n",
       "      <th></th>\n",
       "      <th></th>\n",
       "      <th></th>\n",
       "      <th></th>\n",
       "      <th></th>\n",
       "    </tr>\n",
       "  </thead>\n",
       "  <tbody>\n",
       "    <tr>\n",
       "      <th>No</th>\n",
       "      <td>22.0</td>\n",
       "      <td>374.071818</td>\n",
       "      <td>133.139285</td>\n",
       "      <td>139.69</td>\n",
       "      <td>296.3925</td>\n",
       "      <td>374.74</td>\n",
       "      <td>445.5575</td>\n",
       "      <td>688.77</td>\n",
       "    </tr>\n",
       "    <tr>\n",
       "      <th>Yes</th>\n",
       "      <td>25.0</td>\n",
       "      <td>410.079600</td>\n",
       "      <td>121.513786</td>\n",
       "      <td>210.99</td>\n",
       "      <td>298.3800</td>\n",
       "      <td>424.94</td>\n",
       "      <td>456.3000</td>\n",
       "      <td>635.21</td>\n",
       "    </tr>\n",
       "  </tbody>\n",
       "</table>\n",
       "</div>"
      ],
      "text/plain": [
       "               count        mean         std     min       25%     50%  \\\n",
       "participation                                                            \n",
       "No              22.0  374.071818  133.139285  139.69  296.3925  374.74   \n",
       "Yes             25.0  410.079600  121.513786  210.99  298.3800  424.94   \n",
       "\n",
       "                    75%     max  \n",
       "participation                    \n",
       "No             445.5575  688.77  \n",
       "Yes            456.3000  635.21  "
      ]
     },
     "execution_count": 33,
     "metadata": {},
     "output_type": "execute_result"
    }
   ],
   "source": [
    "# Load the CSV files\n",
    "non_participants = pd.read_csv(\"nonparticipants.csv\")\n",
    "participants = pd.read_csv(\"participants.csv\")\n",
    "\n",
    "# Rename columns for consistency\n",
    "non_participants.columns = [\"calories\"]\n",
    "participants.columns = [\"calories\"]\n",
    "\n",
    "# Add a column indicating participation status\n",
    "non_participants[\"participation\"] = \"No\"\n",
    "participants[\"participation\"] = \"Yes\"\n",
    "\n",
    "# Combine both datasets\n",
    "df = pd.concat([non_participants, participants], ignore_index=True)\n",
    "\n",
    "# Summary statistics\n",
    "summary_table = df.groupby(\"participation\")[\"calories\"].describe()\n",
    "summary_table"
   ]
  },
  {
   "cell_type": "markdown",
   "metadata": {},
   "source": [
    "#### Key Findings:\n",
    "1. **Count:** There are 22 non-participants and 25 participants in the dataset.\n",
    "2. **Mean:** The mean calorie consumption for participants (410.08 calories) is higher than for non-participants (374.07 calories).\n",
    "3. **Standard Deviation:** Participants have a slightly lower standard deviation (121.51 calories) compared to non-participants (133.14 calories), suggesting less variability in their calorie intake.\n",
    "4. **Range:** The minimum and maximum calorie values show that non-participants have a wider range of consumption (139.69 to 688.77 calories), while participants' consumption ranges from 210.99 to 635.21 calories.\n",
    "5. **Percentiles:**\n",
    "   - The **25th percentile** is similar for both groups, with non-participants at 296.39 calories and participants at 298.38 calories.\n",
    "   - The **50th percentile (median)** for participants is 424.94 calories, indicating that half of the participants consumed less than this amount, compared to 374.74 calories for non-participants."
   ]
  },
  {
   "cell_type": "code",
   "execution_count": 34,
   "metadata": {},
   "outputs": [
    {
     "data": {
      "image/png": "[encoded data removed]",
      "text/plain": [
       "<Figure size 1000x500 with 1 Axes>"
      ]
     },
     "metadata": {},
     "output_type": "display_data"
    }
   ],
   "source": [
    "# Enable inline plotting for Jupyter Notebook\n",
    "%matplotlib inline\n",
    "\n",
    "# Create histogram for calorie intake\n",
    "plt.figure(figsize=(10, 5))\n",
    "\n",
    "plt.hist(df[df[\"participation\"] == \"Yes\"][\"calories\"], bins=15, alpha=0.6, color=\"green\", label=\"Participated\")\n",
    "plt.hist(df[df[\"participation\"] == \"No\"][\"calories\"], bins=15, alpha=0.6, color=\"yellow\", label=\"Did Not Participate\")\n",
    "\n",
    "# Labels & Title\n",
    "plt.xlabel(\"Calories Consumed\")\n",
    "plt.ylabel(\"Frequency\")\n",
    "plt.title(\"Distribution of Calorie Intake from Participants vs. Non-Participants\")\n",
    "plt.legend()\n",
    "plt.show()"
   ]
  },
  {
   "cell_type": "code",
   "execution_count": 26,
   "metadata": {},
   "outputs": [
    {
     "data": {
      "text/plain": [
       "<Figure size 800x600 with 0 Axes>"
      ]
     },
     "metadata": {},
     "output_type": "display_data"
    },
    {
     "data": {
      "image/png": "[encoded data removed]",
      "text/plain": [
       "<Figure size 640x480 with 1 Axes>"
      ]
     },
     "metadata": {},
     "output_type": "display_data"
    }
   ],
   "source": [
    "# Creates boxplot\n",
    "plt.figure(figsize=(8, 6))\n",
    "df.boxplot(column=\"calories\", by=\"participation\", grid=False, patch_artist=True)\n",
    "\n",
    "# Labels & Title\n",
    "plt.xlabel(\"Participation in Meal Prep\")\n",
    "plt.ylabel(\"Calories Consumed\")\n",
    "plt.title(\"Effect of Meal Preparation Participation on Calorie Intake\")\n",
    "plt.suptitle(\"\")  # Removes automatic Pandas title\n",
    "plt.show()"
   ]
  },
  {
   "cell_type": "markdown",
   "metadata": {},
   "source": [
    "The calorie distribution for non-participants is generally lower, with a mean of 374.07 calories and a wider spread, indicating greater variability in their calorie consumption. Most non-participants consume fewer calories, but there are some with higher intake values, as reflected by the higher standard deviation (133.14). In contrast, participants have a higher mean of 410.08 calories and a narrower range, suggesting more consistent calorie intake. The distribution for participants is more concentrated around higher calorie values, with fewer extreme outliers, as shown by a smaller standard deviation of 121.51. While both groups have right-skewed distributions, non-participants consume fewer calories on average, and their intake is more variable compared to participants, whose intake is higher and more consistent."
   ]
  },
  {
   "cell_type": "markdown",
   "metadata": {},
   "source": [
    "# Question - 2 \n",
    "\n",
    "Does the mean calorie consumption for those who participated in the meal preparation differ from **425**? Formally test at the $\\alpha = 0.05$ level using the 5 steps outlined in the module. **(6 points)**\n"
   ]
  },
  {
   "cell_type": "code",
   "execution_count": 27,
   "metadata": {},
   "outputs": [
    {
     "name": "stdout",
     "output_type": "stream",
     "text": [
      "Step 1: Set up the hypotheses\n",
      "Null Hypothesis (H0): The mean calorie intake for participants is 425.\n",
      "Alternative Hypothesis (Ha): The mean calorie intake for participants is not 425.\n",
      "This is a two-tailed test with significance level α = 0.05.\n",
      "\n",
      "Step 2: Select the appropriate test statistic\n",
      "Since we are comparing a sample mean to a known value with an unknown population std, we use a one-sample t-test.\n",
      "\n",
      "Step 3: Computed T-Statistic: -0.6139\n",
      "Step 4: P-Value: 0.5450\n",
      "Step 5: Critical T-Value: ±2.0639\n",
      "Conclusion: Fail to reject the null hypothesis (H0). There is no significant difference from 425.\n",
      "\n",
      "Interpretation:\n",
      "The observed mean of 410.08 calories is slightly lower than 425, but the difference is not statistically significant at the 5% level.\n",
      "Since the p-value is greater than 0.05, we fail to reject H0, meaning there is not enough evidence to say the mean calorie intake differs from 425.\n"
     ]
    }
   ],
   "source": [
    "# Import necessary libraries\n",
    "import numpy as np\n",
    "from scipy import stats\n",
    "\n",
    "# Step 1: Set up the hypotheses\n",
    "print(\"Step 1: Set up the hypotheses\")\n",
    "print(\"Null Hypothesis (H0): The mean calorie intake for participants is 425.\")\n",
    "print(\"Alternative Hypothesis (Ha): The mean calorie intake for participants is not 425.\")\n",
    "print(\"This is a two-tailed test with significance level α = 0.05.\\n\")\n",
    "\n",
    "# Given data from the summary statistics\n",
    "sample_mean = 410.08  # Mean calorie intake of participants\n",
    "hypothesized_mean = 425  # Hypothesized population mean\n",
    "sample_std = 121.51  # Standard deviation of participants\n",
    "sample_size = 25  # Number of participants\n",
    "\n",
    "# Step 2: Select the appropriate test statistic\n",
    "print(\"Step 2: Select the appropriate test statistic\")\n",
    "print(\"Since we are comparing a sample mean to a known value with an unknown population std, we use a one-sample t-test.\\n\")\n",
    "\n",
    "# Step 3: Compute the test statistic\n",
    "t_statistic = (sample_mean - hypothesized_mean) / (sample_std / np.sqrt(sample_size))\n",
    "print(f\"Step 3: Computed T-Statistic: {t_statistic:.4f}\")\n",
    "\n",
    "# Step 4: Determin the p-value (two-tailed test)\n",
    "p_value = stats.t.sf(np.abs(t_statistic), df=sample_size-1) * 2  # Multiply by 2 for two-tailed test\n",
    "print(f\"Step 4: P-Value: {p_value:.4f}\")\n",
    "\n",
    "# Step 5: Decision Rule\n",
    "alpha = 0.05  # Significance level\n",
    "df = sample_size - 1  # Degrees of freedom\n",
    "t_critical = stats.t.ppf(1 - alpha/2, df)  # Two-tailed critical value\n",
    "print(f\"Step 5: Critical T-Value: ±{t_critical:.4f}\")\n",
    "\n",
    "# Conclusion\n",
    "if abs(t_statistic) > t_critical:\n",
    "    print(\"Conclusion: Reject the null hypothesis (H0). The mean calorie intake is significantly different from 425.\")\n",
    "else:\n",
    "    print(\"Conclusion: Fail to reject the null hypothesis (H0). There is no significant difference from 425.\")\n",
    "\n",
    "# Interpretation\n",
    "print(\"\\nInterpretation:\")\n",
    "print(\"The observed mean of 410.08 calories is slightly lower than 425, but the difference is not statistically significant at the 5% level.\")\n",
    "print(\"Since the p-value is greater than 0.05, we fail to reject H0, meaning there is not enough evidence to say the mean calorie intake differs from 425.\")"
   ]
  },
  {
   "cell_type": "markdown",
   "metadata": {},
   "source": [
    "# Question -3 \n",
    "Calculate a **90%** confidence interval for the mean calorie intake for participants in the meal preparation. Interpret the confidence interval. **(6 points)**"
   ]
  },
  {
   "cell_type": "code",
   "execution_count": 28,
   "metadata": {},
   "outputs": [
    {
     "name": "stdout",
     "output_type": "stream",
     "text": [
      "90% Confidence Interval for the Mean Calorie Intake of Participants: (368.50, 451.66)\n"
     ]
    }
   ],
   "source": [
    "# Import necessary libraries\n",
    "import numpy as np\n",
    "from scipy import stats\n",
    "\n",
    "# Given data\n",
    "x_bar = 410.08  # Mean of participants\n",
    "s = 121.51  # Standard deviation of participants\n",
    "n = 25  # Sample size\n",
    "\n",
    "# Step 1: Calculate standard error\n",
    "SE = s / np.sqrt(n)\n",
    "\n",
    "# Step 2: Find critical t-value for 90% confidence interval (alpha = 0.10, df = 24)\n",
    "df = n - 1  # Degrees of freedom\n",
    "t_critical = stats.t.ppf(1 - 0.05, df)  # 90% confidence means alpha/2 = 0.05\n",
    "\n",
    "# Step 3: Calculate margin of error\n",
    "margin_of_error = t_critical * SE\n",
    "\n",
    "# Step 4: Calculate confidence interval\n",
    "ci_lower = x_bar - margin_of_error\n",
    "ci_upper = x_bar + margin_of_error\n",
    "\n",
    "# Print results\n",
    "print(f\"90% Confidence Interval for the Mean Calorie Intake of Participants: ({ci_lower:.2f}, {ci_upper:.2f})\")"
   ]
  },
  {
   "cell_type": "markdown",
   "metadata": {},
   "source": [
    "# Question 4 \n",
    "Formally test whether or not participants consumed \n",
    "more calories than non-participants at the $\\alpha = 0.05$ level using the 5 steps procedure for hypothesis tests. **(6 points )**"
   ]
  },
  {
   "cell_type": "code",
   "execution_count": 29,
   "metadata": {},
   "outputs": [
    {
     "name": "stdout",
     "output_type": "stream",
     "text": [
      "Step 1: Set up the hypotheses\n",
      "Null Hypothesis (H0): Participants consume the same or fewer calories than non-participants.\n",
      "Alternative Hypothesis (Ha): Participants consume more calories than non-participants.\n",
      "This is a one-tailed independent t-test at α = 0.05.\n",
      "\n",
      "Step 2: Select the appropriate test statistic\n",
      "We use an independent (two-sample) t-test since we compare two different groups.\n",
      "\n",
      "Step 3: Computed T-Statistic: 0.9637\n",
      "Step 4: P-Value (One-Tailed): 0.1702\n",
      "Step 5: Critical T-Value: 1.6794\n",
      "Conclusion: Fail to reject the null hypothesis (H0). There is no significant evidence that participants consumed more calories than non-participants.\n",
      "\n",
      "Interpretation:\n",
      "Although participants had a higher average calorie intake (410.08) than non-participants (374.07), the statistical test determines whether this difference is significant.\n",
      "If the p-value is less than 0.05, we conclude that participants consume significantly more calories.\n",
      "If the p-value is greater than 0.05, we conclude that the observed difference could be due to random chance.\n"
     ]
    }
   ],
   "source": [
    "# Import necessary libraries\n",
    "import numpy as np\n",
    "from scipy import stats\n",
    "\n",
    "# Given summary statistics\n",
    "participants_mean = 410.08  # Mean calorie intake for participants\n",
    "non_participants_mean = 374.07  # Mean calorie intake for non-participants\n",
    "participants_std = 121.51  # Standard deviation for participants\n",
    "non_participants_std = 133.14  # Standard deviation for non-participants\n",
    "participants_n = 25  # Number of participants\n",
    "non_participants_n = 22  # Number of non-participants\n",
    "\n",
    "# Step 1: Set up the hypotheses\n",
    "print(\"Step 1: Set up the hypotheses\")\n",
    "print(\"Null Hypothesis (H0): Participants consume the same or fewer calories than non-participants.\")\n",
    "print(\"Alternative Hypothesis (Ha): Participants consume more calories than non-participants.\")\n",
    "print(\"This is a one-tailed independent t-test at α = 0.05.\\n\")\n",
    "\n",
    "# Step 2: Select the appropriate test statistic\n",
    "print(\"Step 2: Select the appropriate test statistic\")\n",
    "print(\"We use an independent (two-sample) t-test since we compare two different groups.\\n\")\n",
    "\n",
    "# Step 3: Compute the test statistic\n",
    "t_statistic, p_value = stats.ttest_ind_from_stats(\n",
    "    mean1=participants_mean, std1=participants_std, nobs1=participants_n,\n",
    "    mean2=non_participants_mean, std2=non_participants_std, nobs2=non_participants_n,\n",
    "    equal_var=False  # Welch’s t-test (assuming unequal variances)\n",
    ")\n",
    "\n",
    "print(f\"Step 3: Computed T-Statistic: {t_statistic:.4f}\")\n",
    "\n",
    "# Step 4: Compute the p-value for a one-tailed test using cumulative distribution function (CDF)\n",
    "df = (participants_n + non_participants_n - 2)  # Degrees of freedom approximation\n",
    "p_value_one_tailed = 1 - stats.t.cdf(t_statistic, df)  # Right-tailed test\n",
    "\n",
    "print(f\"Step 4: P-Value (One-Tailed): {p_value_one_tailed:.4f}\")\n",
    "\n",
    "# Step 5: Decision Rule using percent point function (PPF)\n",
    "alpha = 0.05  # Significance level\n",
    "t_critical = stats.t.ppf(1 - alpha, df)  # One-tailed critical value\n",
    "print(f\"Step 5: Critical T-Value: {t_critical:.4f}\")\n",
    "\n",
    "# Conclusion\n",
    "if t_statistic > t_critical and p_value_one_tailed < alpha:\n",
    "    print(\"Conclusion: Reject the null hypothesis (H0). Participants consumed significantly more calories than non-participants.\")\n",
    "else:\n",
    "    print(\"Conclusion: Fail to reject the null hypothesis (H0). There is no significant evidence that participants consumed more calories than non-participants.\")\n",
    "\n",
    "# Interpretation\n",
    "print(\"\\nInterpretation:\")\n",
    "print(\"Although participants had a higher average calorie intake (410.08) than non-participants (374.07), the statistical test determines whether this difference is significant.\")\n",
    "print(\"If the p-value is less than 0.05, we conclude that participants consume significantly more calories.\")\n",
    "print(\"If the p-value is greater than 0.05, we conclude that the observed difference could be due to random chance.\")"
   ]
  }
 ],
 "metadata": {
  "kernelspec": {
   "display_name": "Python (myenv)",
   "language": "python",
   "name": "myenv"
  },
  "language_info": {
   "codemirror_mode": {
    "name": "ipython",
    "version": 3
   },
   "file_extension": ".py",
   "mimetype": "text/x-python",
   "name": "python",
   "nbconvert_exporter": "python",
   "pygments_lexer": "ipython3",
   "version": "3.9.6"
  }
 },
 "nbformat": 4,
 "nbformat_minor": 4
}
