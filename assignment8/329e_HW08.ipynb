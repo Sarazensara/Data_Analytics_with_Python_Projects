{
 "cells": [
  {
   "cell_type": "markdown",
   "metadata": {},
   "source": [
    "# Assignment 8 - k-Nearest Neighbors (kNNs)\n",
    "(20 points)\n",
    "\n",
    "### Add your name(s) and EIDs below\n",
    "- Student Name: Odette Saenz\n",
    "- Student UT EID: oss286\n",
    "- Partner Name:Shruthi Garla \n",
    "- Partner UT EID:sg54464\n",
    "\n",
    "\n",
    "# k-Nearest Neighbors\n",
    "For this assignment, we are going explore one new classification technique: k nearest neighbors.\n",
    "\n",
    "We are using a different version of the Melbourne housing data set from earlier in the semester, split into training and testing sets for you. Our goal is to predict the housing type as one of three possible categories:\n",
    "\n",
    "  - 'h' house\n",
    "  - 'u' duplex\n",
    "  - 't' townhouse\n",
    "\n",
    "At the end of this homework, you will understand how to build and use a kNN model, and improve your data cleaning and data preparation skills. "
   ]
  },
  {
   "cell_type": "code",
   "execution_count": 2,
   "metadata": {},
   "outputs": [],
   "source": [
    "# These are the libraries you will use for this assignment.\n",
    "import pandas as pd\n",
    "import numpy as np\n",
    "import matplotlib.pyplot as plt\n",
    "import time\n",
    "import calendar\n",
    "%matplotlib inline"
   ]
  },
  {
   "cell_type": "code",
   "execution_count": 3,
   "metadata": {},
   "outputs": [],
   "source": [
    "# Start off by loading the training dataset.\n",
    "df_melb = pd.read_csv('melb_data_train.csv')"
   ]
  },
  {
   "cell_type": "markdown",
   "metadata": {},
   "source": [
    "## Q1 \n",
    "\n",
    "**Fix our \"Date\" column to be numeric**: If we inspect our dataframe `df_melb` using the `dtypes` property, we see that the column `Date` is an `object`.  However, we think this column might contain useful information, so your goal is to convert it to [Unix time](https://en.wikipedia.org/wiki/Unix_time).\n",
    "\n",
    "Unix time is the number of secconds since a fixed time known as the \"Unix epoch\", which is midnight on January 1st, 1970. For example, the Unix time for March 10th, 2023 is 1,678,474,369 seconds.\n",
    "\n",
    "- **Use only the libraries imported above** imported libraries to create a new column `UnixTime`. \n",
    "    - Be careful, the date strings in the file might have some non-uniform formatting that you have to fix first.  \n",
    "- Print out the min and max epoch time to check your work.  \n",
    "- Drop the original `Date` column. \n",
    "\n",
    "The Python [reference for time](https://docs.python.org/3/library/time.html) can help you with your conversion to Unix time.\n",
    "\n",
    "(**3 points**)"
   ]
  },
  {
   "cell_type": "code",
   "execution_count": 3,
   "metadata": {},
   "outputs": [
    {
     "data": {
      "text/plain": [
       "Rooms             int64\n",
       "Type             object\n",
       "Price             int64\n",
       "Date             object\n",
       "Distance        float64\n",
       "Postcode          int64\n",
       "Bathroom          int64\n",
       "Car             float64\n",
       "Landsize          int64\n",
       "BuildingArea    float64\n",
       "YearBuilt       float64\n",
       "dtype: object"
      ]
     },
     "execution_count": 3,
     "metadata": {},
     "output_type": "execute_result"
    }
   ],
   "source": [
    "# For reference, here are the data types of each column.\n",
    "df_melb.dtypes"
   ]
  },
  {
   "cell_type": "markdown",
   "metadata": {},
   "source": [
    "<!-- BEGIN QUESTION -->\n",
    "\n"
   ]
  },
  {
   "cell_type": "code",
   "execution_count": 4,
   "metadata": {
    "tags": []
   },
   "outputs": [],
   "source": [
    "def standardize_date(date_string):\n",
    "    \"\"\"Standardize a date string to a standard format.\n",
    "\n",
    "    Rules:\n",
    "    - You can assume the input string is of the form day/month/year.\n",
    "    - Fixed date strings should be of the form DD/MM/YYYY. If a day is\n",
    "      one digit, append zeros.\n",
    "    - If the input string's year is two digits (e.g. 02), assume\n",
    "      the year is in the 2000s (e.g. 2002).\n",
    "    \"\"\"\n",
    "    day, month, year = date_string.split('/')\n",
    "\n",
    "    # Ensures day and month are two digits\n",
    "    day = day.zfill(2)\n",
    "    month = month.zfill(2)\n",
    "\n",
    "    # Converts two-digit years to four-digit years\n",
    "    if len(year) == 2:\n",
    "        year = '20' + year if int(year) < 50 else '19' + year\n",
    "\n",
    "    return f\"{day}/{month}/{year}\"\n",
    "\n",
    "def replace_date_with_unix(df):\n",
    "    \"\"\"Given a Melbourne dataset dataframe, replace the Date column\n",
    "    with a UnixTime column.\n",
    "\n",
    "    Hint: Call standardize_date within this function.\n",
    "    \"\"\"\n",
    "    # Standardize the Date column\n",
    "    df['Date'] = df['Date'].astype(str).apply(standardize_date)\n",
    "\n",
    "    # Converts standardized Date to datetime format\n",
    "    df['Date'] = pd.to_datetime(df['Date'], format=\"%d/%m/%Y\")\n",
    "\n",
    "    # Converts datetime to Unix timestamp\n",
    "    df['UnixTime'] = df['Date'].apply(lambda x: calendar.timegm(x.timetuple()))\n",
    "\n",
    "    # Drop the original Date column\n",
    "    df.drop(columns=['Date'], inplace=True)\n",
    "\n",
    "    return df\n",
    "# Example usage:\n",
    "# df_melb = pd.read_csv('melb_data_train.csv')\n",
    "# df_melb = replace_date_with_unix(df_melb)\n",
    "# print(df_melb.head())"
   ]
  },
  {
   "cell_type": "code",
   "execution_count": 5,
   "metadata": {
    "tags": []
   },
   "outputs": [
    {
     "name": "stdout",
     "output_type": "stream",
     "text": [
      "Min UnixTime: 1454544000\n",
      "Max UnixTime: 1506124800\n"
     ]
    }
   ],
   "source": [
    "df_melb_q1 = replace_date_with_unix(df_melb)\n",
    "\n",
    "# Prints the cleaned UnixTime values.\n",
    "print('Min UnixTime:', df_melb_q1['UnixTime'].min())\n",
    "print('Max UnixTime:', df_melb_q1['UnixTime'].max())"
   ]
  },
  {
   "cell_type": "markdown",
   "metadata": {},
   "source": [
    "<!-- END QUESTION -->\n",
    "\n",
    "## Q2 \n",
    "\n",
    "**Use imputation to fill in missing values**: kNN doesn't work when some attributes are not present, so we must fill in all the missing values in `df_melb` with something. As a simple estimate, we will fill in missing values with the **mean** of that value/column.\n",
    "\n",
    "What we're trying to classify ('h'ome/'d'u'plex/'t'ownhouse), also knonw as the **target**, is store in the `Type` column. We define a variable `target_col` which lets you automatically infer which column is the target. During imputation, we should skip this target column.\n",
    "\n",
    "- Use `df_melb_q1`, i.e. the result from Q1.\n",
    "- Save the mean of each column in a dictionary `dict_imputation`. Keys are an attribute's column name, and values are that attribute's mean.\n",
    "- Use `dict_imputation` to imputate the missing values in `df_melb_q1`.\n",
    "- Store the imputated dataframe in `df_melb_q2`.\n",
    "\n",
    "(**3 points**)"
   ]
  },
  {
   "cell_type": "markdown",
   "metadata": {},
   "source": [
    "<!-- BEGIN QUESTION -->\n",
    "\n"
   ]
  },
  {
   "cell_type": "code",
   "execution_count": 11,
   "metadata": {
    "tags": []
   },
   "outputs": [],
   "source": [
    "def build_imputation_dict(df, target_col):\n",
    "    \"\"\"Collect the mean values of each column, excluding NaN values\n",
    "    and the target column.\n",
    "    \"\"\"\n",
    "    dict_imputation = {}\n",
    "\n",
    "    # Iterates through each column and compute the mean, excluding the target column\n",
    "    for col in df.columns:\n",
    "        if col != target_col and df[col].dtype in [np.float64, np.int64]:  # Only numerical columns\n",
    "            dict_imputation[col] = df[col].mean(skipna=True)\n",
    "\n",
    "    return dict_imputation\n",
    "\n",
    "def imputate(df, dict_imputation, target_col):\n",
    "    \"\"\"Imputate a dataframe, replacing missing values with those\n",
    "    given in dict_imputation. Do not imputate target_col.\"\"\"\n",
    "    df_imputed = df.copy()\n",
    "    \n",
    "    # Replaces missing values in each column using dict_imputation\n",
    "    for col, mean_value in dict_imputation.items():\n",
    "        df_imputed[col].fillna(mean_value, inplace=True)\n",
    "\n",
    "    return df_imputed\n"
   ]
  },
  {
   "cell_type": "code",
   "execution_count": 12,
   "metadata": {
    "tags": []
   },
   "outputs": [
    {
     "name": "stdout",
     "output_type": "stream",
     "text": [
      "   Rooms Type    Price  Distance  Postcode  Bathroom  Car  Landsize  \\\n",
      "0      3    t   732000       5.6      3101         1  1.0       904   \n",
      "1      3    h  1001000      12.6      3020         1  5.0       879   \n",
      "2      2    u   605000       7.4      3185         1  1.0       722   \n",
      "3      3    h   757500      18.8      3170         2  1.0       145   \n",
      "4      4    h   721000      17.9      3082         2  2.0       603   \n",
      "\n",
      "   BuildingArea    YearBuilt    UnixTime  \n",
      "0    110.000000  1980.000000  1469491200  \n",
      "1    131.379477  1971.020443  1488585600  \n",
      "2    131.379477  1970.000000  1462579200  \n",
      "3    131.379477  1971.020443  1497657600  \n",
      "4    131.379477  1971.020443  1505520000  \n"
     ]
    },
    {
     "name": "stderr",
     "output_type": "stream",
     "text": [
      "/var/folders/25/fr9mzrld3d3b9tgykkpjbs340000gn/T/ipykernel_50513/2111553735.py:21: FutureWarning: A value is trying to be set on a copy of a DataFrame or Series through chained assignment using an inplace method.\n",
      "The behavior will change in pandas 3.0. This inplace method will never work because the intermediate object on which we are setting values always behaves as a copy.\n",
      "\n",
      "For example, when doing 'df[col].method(value, inplace=True)', try using 'df.method({col: value}, inplace=True)' or df[col] = df[col].method(value) instead, to perform the operation inplace on the original object.\n",
      "\n",
      "\n",
      "  df_imputed[col].fillna(mean_value, inplace=True)\n"
     ]
    }
   ],
   "source": [
    "# Defines the target column as a string\n",
    "target_col = 'Type'  # The classification column containing 'h', 'u', or 't'\n",
    "\n",
    "# Collects imputation values\n",
    "dict_imputation = build_imputation_dict(df_melb_q1, target_col)\n",
    "\n",
    "# Imputes the dataframe\n",
    "df_melb_q2 = imputate(df_melb_q1, dict_imputation, target_col)\n",
    "\n",
    "# Prints first few rows to verify\n",
    "print(df_melb_q2.head())\n"
   ]
  },
  {
   "cell_type": "code",
   "execution_count": 13,
   "metadata": {
    "tags": []
   },
   "outputs": [
    {
     "data": {
      "text/plain": [
       "{'Rooms': np.float64(2.710769230769231),\n",
       " 'Price': np.float64(941972.2953846154),\n",
       " 'Distance': np.float64(10.206256410256408),\n",
       " 'Postcode': np.float64(3110.873846153846),\n",
       " 'Bathroom': np.float64(1.4543589743589744),\n",
       " 'Car': np.float64(1.4938398357289528),\n",
       " 'Landsize': np.float64(514.2184615384615),\n",
       " 'BuildingArea': np.float64(131.379476861167),\n",
       " 'YearBuilt': np.float64(1971.0204429301534),\n",
       " 'UnixTime': np.float64(1485036288.0)}"
      ]
     },
     "execution_count": 13,
     "metadata": {},
     "output_type": "execute_result"
    }
   ],
   "source": [
    "# Checks results\n",
    "dict_imputation"
   ]
  },
  {
   "cell_type": "code",
   "execution_count": 14,
   "metadata": {
    "tags": []
   },
   "outputs": [
    {
     "data": {
      "text/html": [
       "<div>\n",
       "<style scoped>\n",
       "    .dataframe tbody tr th:only-of-type {\n",
       "        vertical-align: middle;\n",
       "    }\n",
       "\n",
       "    .dataframe tbody tr th {\n",
       "        vertical-align: top;\n",
       "    }\n",
       "\n",
       "    .dataframe thead th {\n",
       "        text-align: right;\n",
       "    }\n",
       "</style>\n",
       "<table border=\"1\" class=\"dataframe\">\n",
       "  <thead>\n",
       "    <tr style=\"text-align: right;\">\n",
       "      <th></th>\n",
       "      <th>Rooms</th>\n",
       "      <th>Type</th>\n",
       "      <th>Price</th>\n",
       "      <th>Distance</th>\n",
       "      <th>Postcode</th>\n",
       "      <th>Bathroom</th>\n",
       "      <th>Car</th>\n",
       "      <th>Landsize</th>\n",
       "      <th>BuildingArea</th>\n",
       "      <th>YearBuilt</th>\n",
       "      <th>UnixTime</th>\n",
       "    </tr>\n",
       "  </thead>\n",
       "  <tbody>\n",
       "    <tr>\n",
       "      <th>0</th>\n",
       "      <td>3</td>\n",
       "      <td>t</td>\n",
       "      <td>732000</td>\n",
       "      <td>5.6</td>\n",
       "      <td>3101</td>\n",
       "      <td>1</td>\n",
       "      <td>1.0</td>\n",
       "      <td>904</td>\n",
       "      <td>110.000000</td>\n",
       "      <td>1980.000000</td>\n",
       "      <td>1469491200</td>\n",
       "    </tr>\n",
       "    <tr>\n",
       "      <th>1</th>\n",
       "      <td>3</td>\n",
       "      <td>h</td>\n",
       "      <td>1001000</td>\n",
       "      <td>12.6</td>\n",
       "      <td>3020</td>\n",
       "      <td>1</td>\n",
       "      <td>5.0</td>\n",
       "      <td>879</td>\n",
       "      <td>131.379477</td>\n",
       "      <td>1971.020443</td>\n",
       "      <td>1488585600</td>\n",
       "    </tr>\n",
       "    <tr>\n",
       "      <th>2</th>\n",
       "      <td>2</td>\n",
       "      <td>u</td>\n",
       "      <td>605000</td>\n",
       "      <td>7.4</td>\n",
       "      <td>3185</td>\n",
       "      <td>1</td>\n",
       "      <td>1.0</td>\n",
       "      <td>722</td>\n",
       "      <td>131.379477</td>\n",
       "      <td>1970.000000</td>\n",
       "      <td>1462579200</td>\n",
       "    </tr>\n",
       "    <tr>\n",
       "      <th>3</th>\n",
       "      <td>3</td>\n",
       "      <td>h</td>\n",
       "      <td>757500</td>\n",
       "      <td>18.8</td>\n",
       "      <td>3170</td>\n",
       "      <td>2</td>\n",
       "      <td>1.0</td>\n",
       "      <td>145</td>\n",
       "      <td>131.379477</td>\n",
       "      <td>1971.020443</td>\n",
       "      <td>1497657600</td>\n",
       "    </tr>\n",
       "    <tr>\n",
       "      <th>4</th>\n",
       "      <td>4</td>\n",
       "      <td>h</td>\n",
       "      <td>721000</td>\n",
       "      <td>17.9</td>\n",
       "      <td>3082</td>\n",
       "      <td>2</td>\n",
       "      <td>2.0</td>\n",
       "      <td>603</td>\n",
       "      <td>131.379477</td>\n",
       "      <td>1971.020443</td>\n",
       "      <td>1505520000</td>\n",
       "    </tr>\n",
       "  </tbody>\n",
       "</table>\n",
       "</div>"
      ],
      "text/plain": [
       "   Rooms Type    Price  Distance  Postcode  Bathroom  Car  Landsize  \\\n",
       "0      3    t   732000       5.6      3101         1  1.0       904   \n",
       "1      3    h  1001000      12.6      3020         1  5.0       879   \n",
       "2      2    u   605000       7.4      3185         1  1.0       722   \n",
       "3      3    h   757500      18.8      3170         2  1.0       145   \n",
       "4      4    h   721000      17.9      3082         2  2.0       603   \n",
       "\n",
       "   BuildingArea    YearBuilt    UnixTime  \n",
       "0    110.000000  1980.000000  1469491200  \n",
       "1    131.379477  1971.020443  1488585600  \n",
       "2    131.379477  1970.000000  1462579200  \n",
       "3    131.379477  1971.020443  1497657600  \n",
       "4    131.379477  1971.020443  1505520000  "
      ]
     },
     "execution_count": 14,
     "metadata": {},
     "output_type": "execute_result"
    }
   ],
   "source": [
    "# Checks results\n",
    "df_melb_q2.head()"
   ]
  },
  {
   "cell_type": "markdown",
   "metadata": {},
   "source": [
    "<!-- END QUESTION -->\n",
    "\n",
    "## Q3\n",
    "\n",
    "**Normalize all attributes to be between [0,1]**: Normalize all the attribute columns in `df_melb_q2` so they have a value between zero and one (inclusive). \n",
    "\n",
    "To do this, we will build a dictionary `dict_normalize`, with column names for keys and (min, max) tuples for values, which are the min (resp. max) value found in the dataframe for that column. Just like in Q2, we do not normalize the target column.\n",
    "\n",
    "After creating `dict_normalize`, we will use it to normalize each column and generate a new dataframe, `df_melb_q3`. The resulting dataframe is now your model that you can use to classify new data points.\n",
    "\n",
    "- Use `df_melb_q2`, i.e. the result from Q2.\n",
    "- Save the minimum and maximum values of each column in a dictionary `dict_normalize`. Keys are an attribute's column name, and values are a (min, amx) tuple for that column,\n",
    "- Use `dict_normalize` to normalize the missing values in `df_melb_q2`.\n",
    "- Store the imputated dataframe in `df_melb_q3`.\n",
    "\n",
    "(**3 points**)"
   ]
  },
  {
   "cell_type": "markdown",
   "metadata": {},
   "source": [
    "<!-- BEGIN QUESTION -->\n",
    "\n"
   ]
  },
  {
   "cell_type": "code",
   "execution_count": 15,
   "metadata": {
    "tags": []
   },
   "outputs": [
    {
     "name": "stdout",
     "output_type": "stream",
     "text": [
      "      Rooms Type     Price  Distance  Postcode  Bathroom    Car  Landsize  \\\n",
      "0  0.333333    t  0.108524  0.105150  0.124691       0.2  0.125  0.021836   \n",
      "1  0.333333    h  0.164449  0.255365  0.024691       0.2  0.625  0.021232   \n",
      "2  0.166667    u  0.082121  0.143777  0.228395       0.2  0.125  0.017440   \n",
      "3  0.333333    h  0.113825  0.388412  0.209877       0.4  0.125  0.003502   \n",
      "4  0.500000    h  0.106237  0.369099  0.101235       0.4  0.250  0.014565   \n",
      "\n",
      "   BuildingArea  YearBuilt  UnixTime  \n",
      "0      0.030916   0.783133  0.289782  \n",
      "1      0.036925   0.729039  0.659966  \n",
      "2      0.036925   0.722892  0.155779  \n",
      "3      0.036925   0.729039  0.835846  \n",
      "4      0.036925   0.729039  0.988275  \n",
      "{'Rooms': (np.int64(1), np.int64(7)), 'Price': (np.int64(210000), np.int64(5020000)), 'Distance': (np.float64(0.7), np.float64(47.3)), 'Postcode': (np.int64(3000), np.int64(3810)), 'Bathroom': (np.int64(0), np.int64(5)), 'Car': (np.float64(0.0), np.float64(8.0)), 'Landsize': (np.int64(0), np.int64(41400)), 'BuildingArea': (np.float64(0.0), np.float64(3558.0)), 'YearBuilt': (np.float64(1850.0), np.float64(2016.0)), 'UnixTime': (np.int64(1454544000), np.int64(1506124800))}\n"
     ]
    }
   ],
   "source": [
    "def build_normalization_dict(df, target_col):\n",
    "    \"\"\"Collect the (min, max) values of each column, except the target column.\"\"\"\n",
    "    dict_normalize = {}\n",
    "\n",
    "    # Iterates through each column and store min and max values, excluding the target column\n",
    "    for col in df.columns:\n",
    "        if col != target_col and df[col].dtype in [np.float64, np.int64]:  # We only normalize numerical columns\n",
    "            min_val = df[col].min()\n",
    "            max_val = df[col].max()\n",
    "            dict_normalize[col] = (min_val, max_val)\n",
    "\n",
    "    return dict_normalize\n",
    "\n",
    "def normalize(df, dict_normalize, target_col):\n",
    "    \"\"\"Normalize a dataframe, setting all values to the range [0, 1]\n",
    "    using (min, max) values in dict_normalize. Do not normalize target_col.\"\"\"\n",
    "    \n",
    "    df_normalized = df.copy()  # Creates a copy to avoid modifying original data\n",
    "\n",
    "    # Applying the min-max normalization to each column\n",
    "    for col, (min_val, max_val) in dict_normalize.items():\n",
    "        if max_val > min_val:  # Prevent division by zero\n",
    "            df_normalized[col] = (df_normalized[col] - min_val) / (max_val - min_val)\n",
    "        else:\n",
    "            df_normalized[col] = 0  # If min == max, set all values to 0\n",
    "\n",
    "    return df_normalized\n",
    "\n",
    "# Example usage:\n",
    "# Define target column\n",
    "target_col = 'Type'\n",
    "\n",
    "# Builds normalization dictionary\n",
    "dict_normalize = build_normalization_dict(df_melb_q2, target_col)\n",
    "\n",
    "# Normalizes the dataset\n",
    "df_melb_q3 = normalize(df_melb_q2, dict_normalize, target_col)\n",
    "\n",
    "# Prints to verify normalization\n",
    "print(df_melb_q3.head())\n",
    "print(dict_normalize)  # Check min-max values"
   ]
  },
  {
   "cell_type": "code",
   "execution_count": 16,
   "metadata": {
    "tags": []
   },
   "outputs": [
    {
     "name": "stdout",
     "output_type": "stream",
     "text": [
      "      Rooms Type     Price  Distance  Postcode  Bathroom    Car  Landsize  \\\n",
      "0  0.333333    t  0.108524  0.105150  0.124691       0.2  0.125  0.021836   \n",
      "1  0.333333    h  0.164449  0.255365  0.024691       0.2  0.625  0.021232   \n",
      "2  0.166667    u  0.082121  0.143777  0.228395       0.2  0.125  0.017440   \n",
      "3  0.333333    h  0.113825  0.388412  0.209877       0.4  0.125  0.003502   \n",
      "4  0.500000    h  0.106237  0.369099  0.101235       0.4  0.250  0.014565   \n",
      "\n",
      "   BuildingArea  YearBuilt  UnixTime  \n",
      "0      0.030916   0.783133  0.289782  \n",
      "1      0.036925   0.729039  0.659966  \n",
      "2      0.036925   0.722892  0.155779  \n",
      "3      0.036925   0.729039  0.835846  \n",
      "4      0.036925   0.729039  0.988275  \n",
      "{'Rooms': (np.int64(1), np.int64(7)), 'Price': (np.int64(210000), np.int64(5020000)), 'Distance': (np.float64(0.7), np.float64(47.3)), 'Postcode': (np.int64(3000), np.int64(3810)), 'Bathroom': (np.int64(0), np.int64(5)), 'Car': (np.float64(0.0), np.float64(8.0)), 'Landsize': (np.int64(0), np.int64(41400)), 'BuildingArea': (np.float64(0.0), np.float64(3558.0)), 'YearBuilt': (np.float64(1850.0), np.float64(2016.0)), 'UnixTime': (np.int64(1454544000), np.int64(1506124800))}\n"
     ]
    }
   ],
   "source": [
    "# Defines the target column as a string\n",
    "target_col = 'Type'  # The column containing 'h', 'u', 't'\n",
    "\n",
    "# Collects normalization values\n",
    "dict_normalize = build_normalization_dict(df_melb_q2, target_col)\n",
    "\n",
    "# Normalizes the dataframe\n",
    "df_melb_q3 = normalize(df_melb_q2, dict_normalize, target_col)\n",
    "\n",
    "# Prints the first few rows of the normalized dataframe to verify\n",
    "print(df_melb_q3.head())\n",
    "\n",
    "# Printz the normalization dictionary to see the min-max values\n",
    "print(dict_normalize)\n"
   ]
  },
  {
   "cell_type": "code",
   "execution_count": 17,
   "metadata": {
    "tags": []
   },
   "outputs": [
    {
     "data": {
      "text/plain": [
       "{'Rooms': (np.int64(1), np.int64(7)),\n",
       " 'Price': (np.int64(210000), np.int64(5020000)),\n",
       " 'Distance': (np.float64(0.7), np.float64(47.3)),\n",
       " 'Postcode': (np.int64(3000), np.int64(3810)),\n",
       " 'Bathroom': (np.int64(0), np.int64(5)),\n",
       " 'Car': (np.float64(0.0), np.float64(8.0)),\n",
       " 'Landsize': (np.int64(0), np.int64(41400)),\n",
       " 'BuildingArea': (np.float64(0.0), np.float64(3558.0)),\n",
       " 'YearBuilt': (np.float64(1850.0), np.float64(2016.0)),\n",
       " 'UnixTime': (np.int64(1454544000), np.int64(1506124800))}"
      ]
     },
     "execution_count": 17,
     "metadata": {},
     "output_type": "execute_result"
    }
   ],
   "source": [
    "# Checks results\n",
    "dict_normalize"
   ]
  },
  {
   "cell_type": "code",
   "execution_count": 18,
   "metadata": {
    "tags": []
   },
   "outputs": [
    {
     "data": {
      "text/html": [
       "<div>\n",
       "<style scoped>\n",
       "    .dataframe tbody tr th:only-of-type {\n",
       "        vertical-align: middle;\n",
       "    }\n",
       "\n",
       "    .dataframe tbody tr th {\n",
       "        vertical-align: top;\n",
       "    }\n",
       "\n",
       "    .dataframe thead th {\n",
       "        text-align: right;\n",
       "    }\n",
       "</style>\n",
       "<table border=\"1\" class=\"dataframe\">\n",
       "  <thead>\n",
       "    <tr style=\"text-align: right;\">\n",
       "      <th></th>\n",
       "      <th>Rooms</th>\n",
       "      <th>Type</th>\n",
       "      <th>Price</th>\n",
       "      <th>Distance</th>\n",
       "      <th>Postcode</th>\n",
       "      <th>Bathroom</th>\n",
       "      <th>Car</th>\n",
       "      <th>Landsize</th>\n",
       "      <th>BuildingArea</th>\n",
       "      <th>YearBuilt</th>\n",
       "      <th>UnixTime</th>\n",
       "    </tr>\n",
       "  </thead>\n",
       "  <tbody>\n",
       "    <tr>\n",
       "      <th>0</th>\n",
       "      <td>0.333333</td>\n",
       "      <td>t</td>\n",
       "      <td>0.108524</td>\n",
       "      <td>0.105150</td>\n",
       "      <td>0.124691</td>\n",
       "      <td>0.2</td>\n",
       "      <td>0.125</td>\n",
       "      <td>0.021836</td>\n",
       "      <td>0.030916</td>\n",
       "      <td>0.783133</td>\n",
       "      <td>0.289782</td>\n",
       "    </tr>\n",
       "    <tr>\n",
       "      <th>1</th>\n",
       "      <td>0.333333</td>\n",
       "      <td>h</td>\n",
       "      <td>0.164449</td>\n",
       "      <td>0.255365</td>\n",
       "      <td>0.024691</td>\n",
       "      <td>0.2</td>\n",
       "      <td>0.625</td>\n",
       "      <td>0.021232</td>\n",
       "      <td>0.036925</td>\n",
       "      <td>0.729039</td>\n",
       "      <td>0.659966</td>\n",
       "    </tr>\n",
       "    <tr>\n",
       "      <th>2</th>\n",
       "      <td>0.166667</td>\n",
       "      <td>u</td>\n",
       "      <td>0.082121</td>\n",
       "      <td>0.143777</td>\n",
       "      <td>0.228395</td>\n",
       "      <td>0.2</td>\n",
       "      <td>0.125</td>\n",
       "      <td>0.017440</td>\n",
       "      <td>0.036925</td>\n",
       "      <td>0.722892</td>\n",
       "      <td>0.155779</td>\n",
       "    </tr>\n",
       "    <tr>\n",
       "      <th>3</th>\n",
       "      <td>0.333333</td>\n",
       "      <td>h</td>\n",
       "      <td>0.113825</td>\n",
       "      <td>0.388412</td>\n",
       "      <td>0.209877</td>\n",
       "      <td>0.4</td>\n",
       "      <td>0.125</td>\n",
       "      <td>0.003502</td>\n",
       "      <td>0.036925</td>\n",
       "      <td>0.729039</td>\n",
       "      <td>0.835846</td>\n",
       "    </tr>\n",
       "    <tr>\n",
       "      <th>4</th>\n",
       "      <td>0.500000</td>\n",
       "      <td>h</td>\n",
       "      <td>0.106237</td>\n",
       "      <td>0.369099</td>\n",
       "      <td>0.101235</td>\n",
       "      <td>0.4</td>\n",
       "      <td>0.250</td>\n",
       "      <td>0.014565</td>\n",
       "      <td>0.036925</td>\n",
       "      <td>0.729039</td>\n",
       "      <td>0.988275</td>\n",
       "    </tr>\n",
       "  </tbody>\n",
       "</table>\n",
       "</div>"
      ],
      "text/plain": [
       "      Rooms Type     Price  Distance  Postcode  Bathroom    Car  Landsize  \\\n",
       "0  0.333333    t  0.108524  0.105150  0.124691       0.2  0.125  0.021836   \n",
       "1  0.333333    h  0.164449  0.255365  0.024691       0.2  0.625  0.021232   \n",
       "2  0.166667    u  0.082121  0.143777  0.228395       0.2  0.125  0.017440   \n",
       "3  0.333333    h  0.113825  0.388412  0.209877       0.4  0.125  0.003502   \n",
       "4  0.500000    h  0.106237  0.369099  0.101235       0.4  0.250  0.014565   \n",
       "\n",
       "   BuildingArea  YearBuilt  UnixTime  \n",
       "0      0.030916   0.783133  0.289782  \n",
       "1      0.036925   0.729039  0.659966  \n",
       "2      0.036925   0.722892  0.155779  \n",
       "3      0.036925   0.729039  0.835846  \n",
       "4      0.036925   0.729039  0.988275  "
      ]
     },
     "execution_count": 18,
     "metadata": {},
     "output_type": "execute_result"
    }
   ],
   "source": [
    "# Checks results\n",
    "df_melb_q3.head()"
   ]
  },
  {
   "cell_type": "markdown",
   "metadata": {},
   "source": [
    "<!-- END QUESTION -->\n",
    "\n",
    "## Q4 \n",
    "\n",
    "**Prepare the test data**: Load in `melb_data_test.csv` and repeat the steps in Q1, Q2, and Q3 (unix time, imputation, and normalization).\n",
    "\n",
    "(**1 point**)"
   ]
  },
  {
   "cell_type": "markdown",
   "metadata": {},
   "source": [
    "<!-- BEGIN QUESTION -->\n",
    "\n"
   ]
  },
  {
   "cell_type": "code",
   "execution_count": 22,
   "metadata": {
    "tags": []
   },
   "outputs": [
    {
     "name": "stdout",
     "output_type": "stream",
     "text": [
      "      Rooms Type     Price  Distance  Postcode  Bathroom       Car  Landsize  \\\n",
      "0  0.166667    t  0.183188  0.263736  0.083732       0.5  0.166667  0.041418   \n",
      "1  0.333333    h  0.407216  0.197802  0.145933       0.0  0.333333  0.182397   \n",
      "2  0.666667    h  0.984140  0.129121  0.315789       0.5  0.333333  0.122859   \n",
      "3  0.333333    h  0.206979  0.244505  0.055024       0.0  0.166667  0.118080   \n",
      "4  0.333333    h  0.191118  1.000000  0.449761       0.0  0.333333  0.166268   \n",
      "\n",
      "   BuildingArea  YearBuilt  UnixTime  \n",
      "0      0.246521   0.967742  0.835846  \n",
      "1      0.290426   0.624069  0.425461  \n",
      "2      0.290426   0.624069  0.345059  \n",
      "3      0.228628   0.645161  0.355109  \n",
      "4      0.228628   0.564516  0.871022  \n"
     ]
    },
    {
     "name": "stderr",
     "output_type": "stream",
     "text": [
      "/var/folders/25/fr9mzrld3d3b9tgykkpjbs340000gn/T/ipykernel_50513/2111553735.py:21: FutureWarning: A value is trying to be set on a copy of a DataFrame or Series through chained assignment using an inplace method.\n",
      "The behavior will change in pandas 3.0. This inplace method will never work because the intermediate object on which we are setting values always behaves as a copy.\n",
      "\n",
      "For example, when doing 'df[col].method(value, inplace=True)', try using 'df.method({col: value}, inplace=True)' or df[col] = df[col].method(value) instead, to perform the operation inplace on the original object.\n",
      "\n",
      "\n",
      "  df_imputed[col].fillna(mean_value, inplace=True)\n"
     ]
    }
   ],
   "source": [
    "# Loads the test dataframe\n",
    "df_melb_test = pd.read_csv('melb_data_test.csv')  # Ensure the file path is correct\n",
    "\n",
    "# Cleans the dates and add Unix time (Q1)\n",
    "df_melb_test = replace_date_with_unix(df_melb_test)\n",
    "\n",
    "# Imputes the dataframe (Q2)\n",
    "target_col = 'Type'  # The classification column 'h', 'u', 't'\n",
    "dict_imputation_test = build_imputation_dict(df_melb_test, target_col)  # Get the imputation dictionary\n",
    "df_melb_test = imputate(df_melb_test, dict_imputation_test, target_col)  # Impute missing values\n",
    "\n",
    "# Normalizes the dataframe (Q3)\n",
    "dict_normalize_test = build_normalization_dict(df_melb_test, target_col)  # Get the normalization dictionary\n",
    "df_melb_test = normalize(df_melb_test, dict_normalize_test, target_col)  # Normalize the dataframe\n",
    "\n",
    "# Prints the first few rows to verify\n",
    "print(df_melb_test.head())"
   ]
  },
  {
   "cell_type": "code",
   "execution_count": 23,
   "metadata": {
    "tags": []
   },
   "outputs": [
    {
     "data": {
      "text/html": [
       "<div>\n",
       "<style scoped>\n",
       "    .dataframe tbody tr th:only-of-type {\n",
       "        vertical-align: middle;\n",
       "    }\n",
       "\n",
       "    .dataframe tbody tr th {\n",
       "        vertical-align: top;\n",
       "    }\n",
       "\n",
       "    .dataframe thead th {\n",
       "        text-align: right;\n",
       "    }\n",
       "</style>\n",
       "<table border=\"1\" class=\"dataframe\">\n",
       "  <thead>\n",
       "    <tr style=\"text-align: right;\">\n",
       "      <th></th>\n",
       "      <th>Rooms</th>\n",
       "      <th>Type</th>\n",
       "      <th>Price</th>\n",
       "      <th>Distance</th>\n",
       "      <th>Postcode</th>\n",
       "      <th>Bathroom</th>\n",
       "      <th>Car</th>\n",
       "      <th>Landsize</th>\n",
       "      <th>BuildingArea</th>\n",
       "      <th>YearBuilt</th>\n",
       "      <th>UnixTime</th>\n",
       "    </tr>\n",
       "  </thead>\n",
       "  <tbody>\n",
       "    <tr>\n",
       "      <th>0</th>\n",
       "      <td>0.166667</td>\n",
       "      <td>t</td>\n",
       "      <td>0.183188</td>\n",
       "      <td>0.263736</td>\n",
       "      <td>0.083732</td>\n",
       "      <td>0.5</td>\n",
       "      <td>0.166667</td>\n",
       "      <td>0.041418</td>\n",
       "      <td>0.246521</td>\n",
       "      <td>0.967742</td>\n",
       "      <td>0.835846</td>\n",
       "    </tr>\n",
       "    <tr>\n",
       "      <th>1</th>\n",
       "      <td>0.333333</td>\n",
       "      <td>h</td>\n",
       "      <td>0.407216</td>\n",
       "      <td>0.197802</td>\n",
       "      <td>0.145933</td>\n",
       "      <td>0.0</td>\n",
       "      <td>0.333333</td>\n",
       "      <td>0.182397</td>\n",
       "      <td>0.290426</td>\n",
       "      <td>0.624069</td>\n",
       "      <td>0.425461</td>\n",
       "    </tr>\n",
       "    <tr>\n",
       "      <th>2</th>\n",
       "      <td>0.666667</td>\n",
       "      <td>h</td>\n",
       "      <td>0.984140</td>\n",
       "      <td>0.129121</td>\n",
       "      <td>0.315789</td>\n",
       "      <td>0.5</td>\n",
       "      <td>0.333333</td>\n",
       "      <td>0.122859</td>\n",
       "      <td>0.290426</td>\n",
       "      <td>0.624069</td>\n",
       "      <td>0.345059</td>\n",
       "    </tr>\n",
       "    <tr>\n",
       "      <th>3</th>\n",
       "      <td>0.333333</td>\n",
       "      <td>h</td>\n",
       "      <td>0.206979</td>\n",
       "      <td>0.244505</td>\n",
       "      <td>0.055024</td>\n",
       "      <td>0.0</td>\n",
       "      <td>0.166667</td>\n",
       "      <td>0.118080</td>\n",
       "      <td>0.228628</td>\n",
       "      <td>0.645161</td>\n",
       "      <td>0.355109</td>\n",
       "    </tr>\n",
       "    <tr>\n",
       "      <th>4</th>\n",
       "      <td>0.333333</td>\n",
       "      <td>h</td>\n",
       "      <td>0.191118</td>\n",
       "      <td>1.000000</td>\n",
       "      <td>0.449761</td>\n",
       "      <td>0.0</td>\n",
       "      <td>0.333333</td>\n",
       "      <td>0.166268</td>\n",
       "      <td>0.228628</td>\n",
       "      <td>0.564516</td>\n",
       "      <td>0.871022</td>\n",
       "    </tr>\n",
       "  </tbody>\n",
       "</table>\n",
       "</div>"
      ],
      "text/plain": [
       "      Rooms Type     Price  Distance  Postcode  Bathroom       Car  Landsize  \\\n",
       "0  0.166667    t  0.183188  0.263736  0.083732       0.5  0.166667  0.041418   \n",
       "1  0.333333    h  0.407216  0.197802  0.145933       0.0  0.333333  0.182397   \n",
       "2  0.666667    h  0.984140  0.129121  0.315789       0.5  0.333333  0.122859   \n",
       "3  0.333333    h  0.206979  0.244505  0.055024       0.0  0.166667  0.118080   \n",
       "4  0.333333    h  0.191118  1.000000  0.449761       0.0  0.333333  0.166268   \n",
       "\n",
       "   BuildingArea  YearBuilt  UnixTime  \n",
       "0      0.246521   0.967742  0.835846  \n",
       "1      0.290426   0.624069  0.425461  \n",
       "2      0.290426   0.624069  0.345059  \n",
       "3      0.228628   0.645161  0.355109  \n",
       "4      0.228628   0.564516  0.871022  "
      ]
     },
     "execution_count": 23,
     "metadata": {},
     "output_type": "execute_result"
    }
   ],
   "source": [
    "# Checks results\n",
    "df_melb_test.head()"
   ]
  },
  {
   "cell_type": "markdown",
   "metadata": {},
   "source": [
    "<!-- END QUESTION -->\n",
    "\n",
    "## Q5\n",
    "\n",
    "**Write the kNN classifier function**: Your function, `predict_knn` will take in the following four parameters:\n",
    "- Training dataframe `df_train`\n",
    "- Hyperparameter `k`\n",
    "- Testing sample `test_sample` (one row of the DataFrame, we can generate it using `iloc` or `iterrows`).\n",
    "- Target column string `target_col`, which defines the variable we want to predict.\n",
    "\n",
    "It will predict which class `test_sample` belongs to, based on the `k` nearest neighbors to the sample.\n",
    "\n",
    "- We assume `df_train` is normalized/imputated, contains all attributes, and also contains the target column.\n",
    "- Likewise, we assume `test_sample` is normalized/imputated and contains all attributes. (But, it does not have to have the target column).\n",
    "\n",
    "*Hint*: To find the distance between the test sample and any element of the training dataset, you may use the [L2 norm function from numpy](https://numpy.org/doc/stable/reference/generated/numpy.linalg.norm.html).\n",
    "\n",
    "(**5 points**)"
   ]
  },
  {
   "cell_type": "markdown",
   "metadata": {},
   "source": [
    "<!-- BEGIN QUESTION -->\n",
    "\n"
   ]
  },
  {
   "cell_type": "code",
   "execution_count": 27,
   "metadata": {
    "tags": []
   },
   "outputs": [],
   "source": [
    "import numpy as np\n",
    "\n",
    "def predict_knn(df_train, k, test_sample, target_col):\n",
    "    \"\"\"\n",
    "    Predict the class of a test sample using k-Nearest Neighbors.\n",
    "\n",
    "    Parameters:\n",
    "        df_train:    DataFrame of training samples\n",
    "        k:           Number of neighbors to consider\n",
    "        test_sample: Single evaluation sample (row from df_train) with numerical values\n",
    "        target_col:  Name of the target variable (column)\n",
    "\n",
    "    Returns:\n",
    "        prediction: Predicted class of the test sample using kNN.\n",
    "    \"\"\"\n",
    "    # Extracts features (drop the target column)\n",
    "    X_train = df_train.drop(columns=[target_col]).values  # Convert to NumPy array\n",
    "    y_train = df_train[target_col]  # Target variable (labels)\n",
    "\n",
    "    # Ensures test_sample is a NumPy array of numeric values\n",
    "    test_sample = np.array(test_sample, dtype=np.float64)  # Convert test sample to float64\n",
    "\n",
    "    # Calculates the Euclidean distance (L2 norm) between the test sample and each row in the training set\n",
    "    distances = np.linalg.norm(X_train - test_sample, axis=1)\n",
    "    \n",
    "    # Gets the indices of the k nearest neighbors\n",
    "    k_nearest_neighbors_indices = np.argsort(distances)[:k]\n",
    "    \n",
    "    # Gets the classes (labels) of the k nearest neighbors\n",
    "    k_nearest_classes = y_train.iloc[k_nearest_neighbors_indices]\n",
    "    \n",
    "    # Finds the most frequent class (majority vote)\n",
    "    prediction = k_nearest_classes.mode()[0]\n",
    "    \n",
    "    return prediction"
   ]
  },
  {
   "cell_type": "markdown",
   "metadata": {},
   "source": [
    "<!-- END QUESTION -->\n",
    "\n",
    "## Q6 \n",
    "\n",
    "**Compute the accuracy using different k values**: For each value of $k$ in the set $\\{1,3,13,25,50,100\\}$, compute the kNN prediction for each oberservation in the test set, and the overall accuracy of the classifier.  Plot the accuracy as a function of $k$.\n",
    "\n",
    "- Use your imputed, normalize training dataframe (`df_melb_q3`).\n",
    "- Use your imputed, normalized testing dataframe (`df_melb_test`).\n",
    "- Have an outer loop over the k-values, and an inner loop computing the prediction for each testing sample under that k-value.\n",
    "\n",
    "Which value of $k$ would you choose? Why?\n",
    "\n",
    "(This can take a while to run; probably at least 5-10 minutes.)\n",
    "\n",
    "(**5 points - 3 for implementation, 1 for plot, 1 for description**).\n",
    "\n",
    "(**This question will be manually graded.**)"
   ]
  },
  {
   "cell_type": "markdown",
   "metadata": {},
   "source": [
    "<!-- BEGIN QUESTION -->\n",
    "\n"
   ]
  },
  {
   "cell_type": "code",
   "execution_count": 28,
   "metadata": {
    "tags": [
     "otter_ignore"
    ]
   },
   "outputs": [
    {
     "name": "stderr",
     "output_type": "stream",
     "text": [
      "/var/folders/25/fr9mzrld3d3b9tgykkpjbs340000gn/T/ipykernel_50513/2111553735.py:21: FutureWarning: A value is trying to be set on a copy of a DataFrame or Series through chained assignment using an inplace method.\n",
      "The behavior will change in pandas 3.0. This inplace method will never work because the intermediate object on which we are setting values always behaves as a copy.\n",
      "\n",
      "For example, when doing 'df[col].method(value, inplace=True)', try using 'df.method({col: value}, inplace=True)' or df[col] = df[col].method(value) instead, to perform the operation inplace on the original object.\n",
      "\n",
      "\n",
      "  df_imputed[col].fillna(mean_value, inplace=True)\n"
     ]
    }
   ],
   "source": [
    "# Loads the test dataframe\n",
    "df_melb_test = pd.read_csv('melb_data_test.csv')\n",
    "\n",
    "# Cleans the dates, add unix time (similar to Q1 steps)\n",
    "df_melb_test = replace_date_with_unix(df_melb_test)\n",
    "\n",
    "# Imputes the missing values (similar to Q2 steps)\n",
    "dict_imputation_test = build_imputation_dict(df_melb_test, target_col='Type')\n",
    "df_melb_test = imputate(df_melb_test, dict_imputation_test, target_col='Type')\n",
    "\n",
    "# Normalizes the test dataframe (similar to Q3 steps)\n",
    "dict_normalize_test = build_normalization_dict(df_melb_test, target_col='Type')\n",
    "df_melb_test = normalize(df_melb_test, dict_normalize_test, target_col='Type')"
   ]
  },
  {
   "cell_type": "code",
   "execution_count": 29,
   "metadata": {},
   "outputs": [
    {
     "name": "stdout",
     "output_type": "stream",
     "text": [
      "Accuracy for k=1: 0.7951\n",
      "Accuracy for k=3: 0.8033\n",
      "Accuracy for k=13: 0.8197\n",
      "Accuracy for k=25: 0.7951\n",
      "Accuracy for k=50: 0.7869\n",
      "Accuracy for k=100: 0.7787\n"
     ]
    },
    {
     "data": {
      "image/png": "[encoded data removed]",
      "text/plain": [
       "<Figure size 640x480 with 1 Axes>"
      ]
     },
     "metadata": {},
     "output_type": "display_data"
    }
   ],
   "source": [
    "poss_k = [1, 3, 13, 25, 50, 100]\n",
    "acc_k = []\n",
    "\n",
    "# Loops over each k in the possible k-values\n",
    "for k in poss_k:\n",
    "    correct_predictions = 0\n",
    "    total_samples = len(df_melb_test)\n",
    "\n",
    "    # Loops over each test sample and make predictions\n",
    "    for _, test_sample in df_melb_test.iterrows():\n",
    "        # Drops the target column 'Type' and get the feature values for the test sample\n",
    "        test_sample_features = test_sample.drop('Type')\n",
    "\n",
    "        # Predicts the class for the test sample using the specified k\n",
    "        predicted_class = predict_knn(df_melb_q3, k, test_sample_features, 'Type')\n",
    "        \n",
    "        true_class = test_sample['Type']\n",
    "        \n",
    "        if predicted_class == true_class:\n",
    "            correct_predictions += 1\n",
    "\n",
    "    # Calculates accuracy for the current k\n",
    "    accuracy = correct_predictions / total_samples\n",
    "    acc_k.append(accuracy)\n",
    "\n",
    "# Prints out the accuracies for each k-value\n",
    "for k, acc in zip(poss_k, acc_k):\n",
    "    print(f\"Accuracy for k={k}: {acc:.4f}\")\n",
    "\n",
    "# Plots accuracy as a function of k\n",
    "import matplotlib.pyplot as plt\n",
    "plt.plot(poss_k, acc_k, marker='o', linestyle='-', color='b')\n",
    "plt.xlabel('k (Number of Neighbors)')\n",
    "plt.ylabel('Accuracy')\n",
    "plt.title('Accuracy vs. k in kNN')\n",
    "plt.xticks(poss_k)\n",
    "plt.grid(True)\n",
    "plt.show()"
   ]
  },
  {
   "cell_type": "markdown",
   "metadata": {},
   "source": [
    "<!-- END QUESTION -->\n",
    "\n"
   ]
  }
 ],
 "metadata": {
  "kernelspec": {
   "display_name": "Python (myenv)",
   "language": "python",
   "name": "myenv"
  },
  "language_info": {
   "codemirror_mode": {
    "name": "ipython",
    "version": 3
   },
   "file_extension": ".py",
   "mimetype": "text/x-python",
   "name": "python",
   "nbconvert_exporter": "python",
   "pygments_lexer": "ipython3",
   "version": "3.9.6"
  },
  "otter": {
   "OK_FORMAT": true,
   "assignment_name": "329e_HW08",
   "tests": {
    "q1": {
     "name": "q1",
     "points": 3,
     "suites": [
      {
       "cases": [],
       "scored": true,
       "setup": "",
       "teardown": "",
       "type": "doctest"
      }
     ]
    },
    "q2": {
     "name": "q2",
     "points": 3,
     "suites": [
      {
       "cases": [],
       "scored": true,
       "setup": "",
       "teardown": "",
       "type": "doctest"
      }
     ]
    },
    "q3": {
     "name": "q3",
     "points": 3,
     "suites": [
      {
       "cases": [],
       "scored": true,
       "setup": "",
       "teardown": "",
       "type": "doctest"
      }
     ]
    },
    "q4": {
     "name": "q4",
     "points": 1,
     "suites": [
      {
       "cases": [],
       "scored": true,
       "setup": "",
       "teardown": "",
       "type": "doctest"
      }
     ]
    },
    "q5": {
     "name": "q5",
     "points": 5,
     "suites": [
      {
       "cases": [],
       "scored": true,
       "setup": "",
       "teardown": "",
       "type": "doctest"
      }
     ]
    }
   }
  },
  "vscode": {
   "interpreter": {
    "hash": "05642a42904bc69a6f3fb292ea6dbf0463ee768c41640775e87375f7653a91c5"
   }
  }
 },
 "nbformat": 4,
 "nbformat_minor": 4
}
