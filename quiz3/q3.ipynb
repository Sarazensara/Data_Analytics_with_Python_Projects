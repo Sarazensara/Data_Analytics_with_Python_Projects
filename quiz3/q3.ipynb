{
 "cells": [
  {
   "cell_type": "markdown",
   "metadata": {},
   "source": [
    "Q1: Download the Dataset from here Q3-Dataset-Train-Test.zipDownload Q3-Dataset-Train-Test.zip\n",
    "\n",
    "Apply Logistic Regression to this Dataset and report the Accuracy of your model. \n",
    "\n",
    "Copy and Paste your Code and your final output here as a text answer!\n",
    "\n"
   ]
  },
  {
   "cell_type": "code",
   "execution_count": 9,
   "metadata": {},
   "outputs": [
    {
     "name": "stdout",
     "output_type": "stream",
     "text": [
      "   Feature1  Feature2  Label\n",
      "0  1.688537 -0.250010      1\n",
      "1  0.569210  0.107141      1\n",
      "2 -0.640956  0.884289      0\n",
      "3  0.233581 -0.036524      1\n",
      "4 -0.581355  0.867544      0\n",
      "Accuracy of Logistic Regression Model: 0.855\n"
     ]
    }
   ],
   "source": [
    "# Import required libraries\n",
    "import pandas as pd\n",
    "from sklearn.model_selection import train_test_split\n",
    "from sklearn.linear_model import LogisticRegression\n",
    "from sklearn.metrics import accuracy_score\n",
    "from sklearn.preprocessing import StandardScaler\n",
    "\n",
    "# Load the dataset\n",
    "train_data = pd.read_csv('/Users/odettesaenz/Downloads/Q3-Dataset-Train-Test/q3-train.csv')\n",
    "test_data = pd.read_csv('/Users/odettesaenz/Downloads/Q3-Dataset-Train-Test/q3-test.csv')\n",
    "\n",
    "# Preview the data\n",
    "print(train_data.head())\n",
    "\n",
    "# Assuming the last column is the target variable and the rest are features\n",
    "X_train = train_data.iloc[:, :-1]  # All columns except the last one (features)\n",
    "y_train = train_data.iloc[:, -1]   # Last column (target)\n",
    "\n",
    "X_test = test_data.iloc[:, :-1]    # All columns except the last one (features)\n",
    "y_test = test_data.iloc[:, -1]     # Last column (target)\n",
    "\n",
    "# Standardize the features (important for Logistic Regression)\n",
    "scaler = StandardScaler()\n",
    "X_train_scaled = scaler.fit_transform(X_train)\n",
    "X_test_scaled = scaler.transform(X_test)\n",
    "\n",
    "# Apply Logistic Regression\n",
    "model = LogisticRegression()\n",
    "model.fit(X_train_scaled, y_train)\n",
    "\n",
    "# Make predictions\n",
    "y_pred = model.predict(X_test_scaled)\n",
    "\n",
    "# Calculate the accuracy\n",
    "accuracy = accuracy_score(y_test, y_pred)\n",
    "print(f\"Accuracy of Logistic Regression Model: {accuracy}\")\n"
   ]
  },
  {
   "cell_type": "markdown",
   "metadata": {},
   "source": [
    "Q2: Download the Dataset from here Q3-Dataset-Train-Test.zipDownload Q3-Dataset-Train-Test.zip\n",
    "\n",
    "Apply Support Vector Machine to this Dataset and report the Accuracy of your model. \n",
    "\n",
    "Check if your accuracy is better than Logistic Regression or not. Describe the reasons why is better or not. \n",
    "\n",
    "(If needed you can modify any parameters of SVM to make it better than Logistic regression )\n",
    "\n",
    "Copy and Paste your Code and your final output here as a text answer!"
   ]
  },
  {
   "cell_type": "code",
   "execution_count": 11,
   "metadata": {},
   "outputs": [
    {
     "name": "stdout",
     "output_type": "stream",
     "text": [
      "   Feature1  Feature2  Label\n",
      "0  1.688537 -0.250010      1\n",
      "1  0.569210  0.107141      1\n",
      "2 -0.640956  0.884289      0\n",
      "3  0.233581 -0.036524      1\n",
      "4 -0.581355  0.867544      0\n",
      "Accuracy of Support Vector Machine Model: 0.855\n"
     ]
    }
   ],
   "source": [
    "# Import required libraries\n",
    "import pandas as pd\n",
    "from sklearn.svm import SVC\n",
    "from sklearn.metrics import accuracy_score\n",
    "from sklearn.preprocessing import StandardScaler\n",
    "\n",
    "# Load the dataset\n",
    "train_data = pd.read_csv('/Users/odettesaenz/Downloads/Q3-Dataset-Train-Test/q3-train.csv')\n",
    "test_data = pd.read_csv('/Users/odettesaenz/Downloads/Q3-Dataset-Train-Test/q3-test.csv')\n",
    "\n",
    "# Preview the data\n",
    "print(train_data.head())\n",
    "\n",
    "# Assuming the last column is the target variable and the rest are features\n",
    "X_train = train_data.iloc[:, :-1]  # All columns except the last one (features)\n",
    "y_train = train_data.iloc[:, -1]   # Last column (target)\n",
    "\n",
    "X_test = test_data.iloc[:, :-1]    # All columns except the last one (features)\n",
    "y_test = test_data.iloc[:, -1]     # Last column (target)\n",
    "\n",
    "# Standardize the features (important for SVM)\n",
    "scaler = StandardScaler()\n",
    "X_train_scaled = scaler.fit_transform(X_train)\n",
    "X_test_scaled = scaler.transform(X_test)\n",
    "\n",
    "# Apply Support Vector Machine (SVM) with a linear kernel\n",
    "model_svm = SVC(kernel='linear')  # You can try 'rbf' or 'poly' for different kernels\n",
    "model_svm.fit(X_train_scaled, y_train)\n",
    "\n",
    "# Make predictions\n",
    "y_pred_svm = model_svm.predict(X_test_scaled)\n",
    "\n",
    "# Calculate the accuracy\n",
    "accuracy_svm = accuracy_score(y_test, y_pred_svm)\n",
    "print(f\"Accuracy of Support Vector Machine Model: {accuracy_svm}\")\n",
    "\n",
    "# You can experiment with different kernel types or C parameter to improve the performance"
   ]
  },
  {
   "cell_type": "markdown",
   "metadata": {},
   "source": [
    "Q3: Download the Dataset from here Q3-Dataset-Train-Test.zipDownload Q3-Dataset-Train-Test.zip\n",
    "\n",
    "Apply k-nearest neighbors algorithm to this Dataset and report the Accuracy of your model. \n",
    "\n",
    "Check if your accuracy is better than Logistic Regression or SVM. Describe the reasons why is better or not. \n",
    "\n",
    "(If needed you can modify any parameters of kNN  k= 2, or 3, 4, ...)\n",
    "\n",
    "Copy and Paste your Code and your final output here as a text answer!"
   ]
  },
  {
   "cell_type": "code",
   "execution_count": 12,
   "metadata": {},
   "outputs": [
    {
     "name": "stdout",
     "output_type": "stream",
     "text": [
      "   Feature1  Feature2  Label\n",
      "0  1.688537 -0.250010      1\n",
      "1  0.569210  0.107141      1\n",
      "2 -0.640956  0.884289      0\n",
      "3  0.233581 -0.036524      1\n",
      "4 -0.581355  0.867544      0\n",
      "Accuracy of k-Nearest Neighbors Model (k=3): 0.985\n"
     ]
    }
   ],
   "source": [
    "# Import required libraries\n",
    "import pandas as pd\n",
    "from sklearn.neighbors import KNeighborsClassifier\n",
    "from sklearn.metrics import accuracy_score\n",
    "from sklearn.preprocessing import StandardScaler\n",
    "\n",
    "# Load the dataset\n",
    "train_data = pd.read_csv('/Users/odettesaenz/Downloads/Q3-Dataset-Train-Test/q3-train.csv')\n",
    "test_data = pd.read_csv('/Users/odettesaenz/Downloads/Q3-Dataset-Train-Test/q3-test.csv')\n",
    "\n",
    "# Preview the data\n",
    "print(train_data.head())\n",
    "\n",
    "# Assuming the last column is the target variable and the rest are features\n",
    "X_train = train_data.iloc[:, :-1]  # All columns except the last one (features)\n",
    "y_train = train_data.iloc[:, -1]   # Last column (target)\n",
    "\n",
    "X_test = test_data.iloc[:, :-1]    # All columns except the last one (features)\n",
    "y_test = test_data.iloc[:, -1]     # Last column (target)\n",
    "\n",
    "# Standardize the features (important for kNN)\n",
    "scaler = StandardScaler()\n",
    "X_train_scaled = scaler.fit_transform(X_train)\n",
    "X_test_scaled = scaler.transform(X_test)\n",
    "\n",
    "# Apply k-Nearest Neighbors (kNN) with a specific value of k (e.g., k=3)\n",
    "k = 3  # You can experiment with other values like 2, 4, etc.\n",
    "model_knn = KNeighborsClassifier(n_neighbors=k)\n",
    "model_knn.fit(X_train_scaled, y_train)\n",
    "\n",
    "# Make predictions\n",
    "y_pred_knn = model_knn.predict(X_test_scaled)\n",
    "\n",
    "# Calculate the accuracy\n",
    "accuracy_knn = accuracy_score(y_test, y_pred_knn)\n",
    "print(f\"Accuracy of k-Nearest Neighbors Model (k={k}): {accuracy_knn}\")"
   ]
  },
  {
   "cell_type": "markdown",
   "metadata": {},
   "source": [
    "Q4: Download the Dataset from here Q3-Dataset-Train-Test.zipDownload Q3-Dataset-Train-Test.zip\n",
    "\n",
    "Create a Decision Tree Model using this dataset and report the Accuracy of your model. \n",
    "\n",
    " \n",
    "\n",
    "Copy and Paste your Code and your final output here as a text answer!"
   ]
  },
  {
   "cell_type": "code",
   "execution_count": 13,
   "metadata": {},
   "outputs": [
    {
     "name": "stdout",
     "output_type": "stream",
     "text": [
      "   Feature1  Feature2  Label\n",
      "0  1.688537 -0.250010      1\n",
      "1  0.569210  0.107141      1\n",
      "2 -0.640956  0.884289      0\n",
      "3  0.233581 -0.036524      1\n",
      "4 -0.581355  0.867544      0\n",
      "Accuracy of Decision Tree Model: 0.97\n"
     ]
    }
   ],
   "source": [
    "# Import required libraries\n",
    "import pandas as pd\n",
    "from sklearn.tree import DecisionTreeClassifier\n",
    "from sklearn.metrics import accuracy_score\n",
    "from sklearn.preprocessing import StandardScaler\n",
    "\n",
    "# Load the dataset\n",
    "train_data = pd.read_csv('/Users/odettesaenz/Downloads/Q3-Dataset-Train-Test/q3-train.csv')\n",
    "test_data = pd.read_csv('/Users/odettesaenz/Downloads/Q3-Dataset-Train-Test/q3-test.csv')\n",
    "\n",
    "# Preview the data\n",
    "print(train_data.head())\n",
    "\n",
    "# Assuming the last column is the target variable and the rest are features\n",
    "X_train = train_data.iloc[:, :-1]  # All columns except the last one (features)\n",
    "y_train = train_data.iloc[:, -1]   # Last column (target)\n",
    "\n",
    "X_test = test_data.iloc[:, :-1]    # All columns except the last one (features)\n",
    "y_test = test_data.iloc[:, -1]     # Last column (target)\n",
    "\n",
    "# Standardize the features (important for decision tree)\n",
    "scaler = StandardScaler()\n",
    "X_train_scaled = scaler.fit_transform(X_train)\n",
    "X_test_scaled = scaler.transform(X_test)\n",
    "\n",
    "# Apply Decision Tree Classifier\n",
    "model_dt = DecisionTreeClassifier(random_state=42)\n",
    "model_dt.fit(X_train_scaled, y_train)\n",
    "\n",
    "# Make predictions\n",
    "y_pred_dt = model_dt.predict(X_test_scaled)\n",
    "\n",
    "# Calculate the accuracy\n",
    "accuracy_dt = accuracy_score(y_test, y_pred_dt)\n",
    "print(f\"Accuracy of Decision Tree Model: {accuracy_dt}\")"
   ]
  },
  {
   "cell_type": "markdown",
   "metadata": {},
   "source": [
    "Download the Dataset from here Q3-Dataset-Train-Test.zipDownload Q3-Dataset-Train-Test.zip\n",
    "\n",
    "Apply AdaBoost Classifier using this dataset and report the Accuracy of your model. \n",
    "\n",
    "Check if your accuracy is better than other models or not. Describe the reasons why is better or not. \n",
    "\n",
    " \n",
    "\n",
    "Copy and Paste your Code and your final output here as a text answer!"
   ]
  },
  {
   "cell_type": "code",
   "execution_count": 16,
   "metadata": {},
   "outputs": [
    {
     "name": "stdout",
     "output_type": "stream",
     "text": [
      "   Feature1  Feature2  Label\n",
      "0  1.688537 -0.250010      1\n",
      "1  0.569210  0.107141      1\n",
      "2 -0.640956  0.884289      0\n",
      "3  0.233581 -0.036524      1\n",
      "4 -0.581355  0.867544      0\n",
      "Accuracy of AdaBoost Classifier Model: 0.97\n"
     ]
    }
   ],
   "source": [
    "# Import required libraries\n",
    "import pandas as pd\n",
    "from sklearn.ensemble import AdaBoostClassifier\n",
    "from sklearn.metrics import accuracy_score\n",
    "from sklearn.preprocessing import StandardScaler\n",
    "from sklearn.tree import DecisionTreeClassifier\n",
    "\n",
    "# Load the dataset\n",
    "train_data = pd.read_csv('/Users/odettesaenz/Downloads/Q3-Dataset-Train-Test/q3-train.csv')\n",
    "test_data = pd.read_csv('/Users/odettesaenz/Downloads/Q3-Dataset-Train-Test/q3-test.csv')\n",
    "\n",
    "# Preview the data\n",
    "print(train_data.head())\n",
    "\n",
    "# Assuming the last column is the target variable and the rest are features\n",
    "X_train = train_data.iloc[:, :-1]  # All columns except the last one (features)\n",
    "y_train = train_data.iloc[:, -1]   # Last column (target)\n",
    "\n",
    "X_test = test_data.iloc[:, :-1]    # All columns except the last one (features)\n",
    "y_test = test_data.iloc[:, -1]     # Last column (target)\n",
    "\n",
    "# Standardize the features (important for many models)\n",
    "scaler = StandardScaler()\n",
    "X_train_scaled = scaler.fit_transform(X_train)\n",
    "X_test_scaled = scaler.transform(X_test)\n",
    "\n",
    "# Apply AdaBoost Classifier (using the default base estimator, which is a DecisionTreeClassifier with max_depth=1)\n",
    "model_ada = AdaBoostClassifier(n_estimators=50, random_state=42)\n",
    "model_ada.fit(X_train_scaled, y_train)\n",
    "\n",
    "# Make predictions\n",
    "y_pred_ada = model_ada.predict(X_test_scaled)\n",
    "\n",
    "# Calculate the accuracy\n",
    "accuracy_ada = accuracy_score(y_test, y_pred_ada)\n",
    "print(f\"Accuracy of AdaBoost Classifier Model: {accuracy_ada}\")"
   ]
  }
 ],
 "metadata": {
  "kernelspec": {
   "display_name": "Python (myenv)",
   "language": "python",
   "name": "myenv"
  },
  "language_info": {
   "codemirror_mode": {
    "name": "ipython",
    "version": 3
   },
   "file_extension": ".py",
   "mimetype": "text/x-python",
   "name": "python",
   "nbconvert_exporter": "python",
   "pygments_lexer": "ipython3",
   "version": "3.9.6"
  }
 },
 "nbformat": 4,
 "nbformat_minor": 2
}
