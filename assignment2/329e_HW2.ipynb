{
 "cells": [
  {
   "cell_type": "markdown",
   "metadata": {},
   "source": [
    "# Homework 2\n",
    "\n",
    "## Your Name Here (or your names here if you are pair programming)\n",
    "\n",
    " - Student Name:Odette Saenz\n",
    " - Student UT EID:oss286\n",
    "\n",
    "\n",
    " - Partner Name:Shruthi Garla\n",
    " - Partner UT EID:sg54464\n",
    "\n",
    "## Practicing Pandas\n"
   ]
  },
  {
   "cell_type": "code",
   "execution_count": 1,
   "metadata": {},
   "outputs": [],
   "source": [
    "# Standard Headers\n",
    "# You are welcome to add additional headers here if you wish\n",
    "import pandas as pd\n",
    "import numpy as np\n",
    "import matplotlib.pyplot as plt\n",
    "\n",
    "# Enable inline mode for matplotlib so that Jupyter displays graphs\n",
    "%matplotlib inline"
   ]
  },
  {
   "cell_type": "markdown",
   "metadata": {},
   "source": [
    "# Social Network Dataset\n",
    "\n",
    "In this assignment we work with a social network dataset. \n",
    "\n",
    "You have 5 tables to work on. \n",
    "\n",
    "1. **person_knows_person**\n",
    "This table represents the friendship between users. A person can have many friends. Persons have unique integer id number. \n",
    "\n",
    "2. **person_likes_post_file** \n",
    "This tables represents user likes. A person and a post is represented by IDs. \n",
    "\n",
    "3. **post_hasCreator_person**\n",
    "A person creates many posts. Each post has a unique creator person id. \n",
    "\n",
    "4. **comment_replyOf_post**\n",
    "This table represents comments on posts. Both post and comments have unique ids. \n",
    "\n",
    "5. **comment_hasCreator_person** \n",
    "A user can comment on posts. Each comment has a unique creator person id. \n"
   ]
  },
  {
   "cell_type": "code",
   "execution_count": 2,
   "metadata": {},
   "outputs": [
    {
     "name": "stdout",
     "output_type": "stream",
     "text": [
      "   Person.id  Person.id.1\n",
      "0         38          956\n",
      "1         38          962\n",
      "2         38          941\n",
      "3         38           74\n",
      "4         38           36\n",
      "-------------------------\n",
      "   Person.id  Post.id          creationDate\n",
      "0         74        0  2012-10-15T05:13:41Z\n",
      "1         36        0  2012-10-18T10:51:39Z\n",
      "2        417       10  2012-11-18T11:14:47Z\n",
      "3        415       10  2012-11-20T06:30:22Z\n",
      "4        109       10  2012-11-19T11:03:52Z\n",
      "-------------------------\n",
      "   Post.id  Person.id\n",
      "0        0         38\n",
      "1       10         38\n",
      "2       20         38\n",
      "3       30         38\n",
      "4       40         38\n",
      "-------------------------\n",
      "   Comment.id  Post.id\n",
      "0           0        0\n",
      "1          10        0\n",
      "2          30        0\n",
      "3          70        0\n",
      "4         100       10\n",
      "-------------------------\n",
      "   Comment.id  Person.id\n",
      "0           0         74\n",
      "1          10        832\n",
      "2          20        913\n",
      "3          30        457\n",
      "4          40        956\n",
      "-------------------------\n"
     ]
    }
   ],
   "source": [
    "url = \"https://raw.githubusercontent.com/kiat/Elements-of-Data-Analytics/main/datasets/social-media/\"\n",
    "\n",
    "person_knows_person_file = url + \"person_knows_person.csv\"\n",
    "person_likes_post_file = url + \"person_likes_post.csv\"\n",
    "post_hasCreator_person_file = url + \"post_hasCreator_person.csv\"\n",
    "comment_replyOf_post_file = url + \"comment_replyOf_post.csv\"\n",
    "comment_hasCreator_person_file = url + \"comment_hasCreator_person.csv\"\n",
    "\n",
    "person_knows_person = pd.read_csv(person_knows_person_file,  sep='|')\n",
    "person_likes_post = pd.read_csv(person_likes_post_file,  sep='|')\n",
    "post_hasCreator_person = pd.read_csv(post_hasCreator_person_file,  sep='|')\n",
    "comment_replyOf_post = pd.read_csv(comment_replyOf_post_file, sep='|')\n",
    "comment_hasCreator_person = pd.read_csv(comment_hasCreator_person_file,  sep='|')\n",
    "\n",
    "print(person_knows_person.head(5))\n",
    "print(\"-------------------------\")\n",
    "\n",
    "print(person_likes_post.head(5))\n",
    "print(\"-------------------------\")\n",
    "\n",
    "print(post_hasCreator_person.head(5))\n",
    "print(\"-------------------------\")\n",
    "\n",
    "print(comment_replyOf_post.head(5))\n",
    "print(\"-------------------------\")\n",
    "\n",
    "print(comment_hasCreator_person.head(5))\n",
    "print(\"-------------------------\")"
   ]
  },
  {
   "cell_type": "markdown",
   "metadata": {},
   "source": [
    "# Question - 1. Who are the top-10 users who have the highest number of friends? (4 points)\n",
    "Count up the number of friends of each user and provide the top-10 of this number of friend count list. Print out their user IDs. "
   ]
  },
  {
   "cell_type": "code",
   "execution_count": 4,
   "metadata": {},
   "outputs": [
    {
     "name": "stdout",
     "output_type": "stream",
     "text": [
      "Top 10 users with the highest number of friends:\n",
      "336    198\n",
      "959    198\n",
      "40     198\n",
      "430    196\n",
      "811    196\n",
      "296    196\n",
      "938    196\n",
      "804    194\n",
      "165    194\n",
      "323    192\n",
      "Name: count, dtype: int64\n"
     ]
    }
   ],
   "source": [
    "# Counts the number of friends for each user\n",
    "friend_counts = pd.concat([\n",
    "    person_knows_person['Person.id'], \n",
    "    person_knows_person['Person.id.1']\n",
    "]).value_counts()\n",
    "\n",
    "# Gets the top 10 users\n",
    "top_10_users = friend_counts.head(10)\n",
    "\n",
    "# Prints their user IDs\n",
    "print(\"Top 10 users with the highest number of friends:\")\n",
    "print(top_10_users)"
   ]
  },
  {
   "cell_type": "markdown",
   "metadata": {},
   "source": [
    "# Question - 2. Who wrote the most liked post?  (4 points)\n",
    "Count up the number of likes for each post and find out who wrote that post. \n",
    "Print out the user id. If there are multiple maximum print them all. "
   ]
  },
  {
   "cell_type": "code",
   "execution_count": 5,
   "metadata": {},
   "outputs": [
    {
     "name": "stdout",
     "output_type": "stream",
     "text": [
      "Users who wrote the most liked post(s):\n",
      "[ 38 941 347 495 884 336 405 135 587 863  43 875 861 422 514 746 728 548\n",
      " 825 402 109 557  72 627 790 463 838  65 357  52 427 193 629 232 186 197\n",
      " 585 429  28 732 318 635 393 654 105 659 189 643 668 556 383 532 326 970\n",
      " 717 900 910 239 524 396 224 795 262  91 711 348 153 663 996 473 415 842\n",
      " 762  86 731 919 685 505 353 965 712 945 564 122 959 997  36 510 278 675\n",
      "  13 275 568 221  73 669 408 483 844 517 544 118  48 370 976 609 156 102\n",
      " 333 770 569 630 451 542 911 430  83 979 896 297 394 182 828 882 878 529\n",
      " 819   3 149  78 319 180 683 938 951   5 434 572 157 886 785 613 229 980\n",
      " 778   4 476 491  11 715 942 280 835 986 661 834 545 780 674 858 876 658\n",
      " 464 929 960 325 618 888 693 921 694 983 696 179 406 225  55 958 167 991\n",
      " 767 250 480 899  21 943 772 166 987 786 565 366  99  71 814 446 745 699\n",
      " 998 892 648  66 531 632 738  53  22 550 571 716 131 395 647 420 168 101\n",
      " 344  31 908 640 651 682 973  64 266 417 426 274 570 191 680  41 155 859\n",
      " 649 913 702  10 230 477 369 334 773 414 538 620 660  82  62 281 273 576\n",
      " 265 372 361 424 811 830 848  76 725 456 794 995 761   7 547 160 903 309\n",
      "  46 756 377 283 885 614 199 310 356 501 840 459 751 503 744 826 475 208\n",
      " 423 953 984 245 404 686 312 252 776 323 211 583 866 578 339 146 802 530\n",
      " 789 985 360 820 968 345 117 236 500 110 272 827 895 121 270 606 435 413\n",
      " 650 592  69 862 227 803 296 104 421 631  40 311 867 752  29 165 367 253\n",
      " 777 915 596 292 410 625 967 617 494 870 447 375 626 763 222 947 581 152\n",
      " 673 506 132 238 115 805 362 184 519 993 522   8 824 145 237 337 931 971\n",
      " 783 432 471 502 349 608 978 342 905 407 604 364  18 831 286 183 754 771\n",
      " 261 641 698 233 379 196 255 441 670 880 226 437 181 162 316 454  92 962\n",
      " 653 304 244 448 368 589 676 966  47 509  84 599 890  15 151 350  26 904\n",
      " 810  70 467 748 499  20 593  24 954 779 657 871  74 801 584 812 956 804\n",
      " 277 562 138 120 950 228 791 612 385 380 127 741 425 839 246 639 918 701\n",
      " 678 922 194 782 742 552 586 944 727  60 218 755 112  34 307 107 719 799\n",
      " 868 479  95 457 192  23 924 378 832 723 481 365 440 461 855 352 198 144\n",
      " 872   0  63 664 492 836 108 321 798 484 320 291 515 573 817 359 119 700\n",
      " 141 389 975 655 100 611 722 697 864  68 734 164 328  89 465 869 541 264\n",
      " 692 455 450 558 590 539 147  81 721 240 174 894 488 822 351 507 792 305\n",
      " 784 610 808 724 409 735 136 567 633 935 793 295 294 797 260 891 158 713\n",
      " 849 219 401 934 169 525 644  16 714 930 129 833 546   6 324 512 750  98\n",
      "  93 458 438 520 597  33 850 346   2 290 161  80 329]\n"
     ]
    }
   ],
   "source": [
    "# Counts the likes for each post\n",
    "post_like_counts = person_likes_post['Post.id'].value_counts()\n",
    "\n",
    "# Finds the post(s) with the most likes\n",
    "max_likes = post_like_counts.max()\n",
    "most_liked_posts = post_like_counts[post_like_counts == max_likes].index\n",
    "\n",
    "# Finds the creator(s) of these posts\n",
    "most_liked_creators = post_hasCreator_person[post_hasCreator_person['Post.id'].isin(most_liked_posts)]\n",
    "\n",
    "# Prints the user IDs\n",
    "print(\"Users who wrote the most liked post(s):\")\n",
    "print(most_liked_creators['Person.id'].unique())"
   ]
  },
  {
   "cell_type": "markdown",
   "metadata": {},
   "source": [
    "# Question - 3. Who wrote the most influential post? The most influential post is the most discussed and most liked post. (4 points)\n",
    "\n",
    "**Tip:** First, count up the number of comments and likes that each post has. Then find out which post it is, and finally find out who wrote that. \n",
    "Print out one user id. \n",
    "If there is a tie, print out the ***one***  at the tope of the list.\n"
   ]
  },
  {
   "cell_type": "code",
   "execution_count": 6,
   "metadata": {},
   "outputs": [
    {
     "name": "stdout",
     "output_type": "stream",
     "text": [
      "User who wrote the most influential post: 325\n"
     ]
    }
   ],
   "source": [
    "# Counts the number of likes per post\n",
    "likes_per_post = person_likes_post['Post.id'].value_counts()\n",
    "\n",
    "# Counts the number of comments per post\n",
    "comments_per_post = comment_replyOf_post['Post.id'].value_counts()\n",
    "\n",
    "# Merges the two counts into a single DataFrame\n",
    "post_influence = pd.DataFrame({'Likes': likes_per_post, 'Comments': comments_per_post}).fillna(0)\n",
    "\n",
    "# Calculates total influence (likes + comments)\n",
    "post_influence['Total_Influence'] = post_influence['Likes'] + post_influence['Comments']\n",
    "\n",
    "# Finds the post with the highest influence\n",
    "most_influential_post = post_influence['Total_Influence'].idxmax()\n",
    "\n",
    "# Finds the creator of that post\n",
    "creator = post_hasCreator_person[post_hasCreator_person['Post.id'] == most_influential_post]['Person.id'].iloc[0]\n",
    "\n",
    "# Prints the result\n",
    "print(\"User who wrote the most influential post:\", creator)"
   ]
  },
  {
   "cell_type": "markdown",
   "metadata": {},
   "source": [
    "# Question - 4. Create two histograms for the distributions of the number of likes and comments that users have created. (4 points)\n",
    "Describe the shape of these data two data distributions. \n",
    "\n",
    "**Tip:** First perpare two lists of number of likes and number of comments that users have done. You need to count up how many likes and how many comments each unique user id has. "
   ]
  },
  {
   "cell_type": "code",
   "execution_count": 8,
   "metadata": {},
   "outputs": [
    {
     "data": {
      "image/png": "[encoded data removed]",
      "text/plain": [
       "<Figure size 1400x600 with 2 Axes>"
      ]
     },
     "metadata": {},
     "output_type": "display_data"
    }
   ],
   "source": [
    "# Counts likes per user\n",
    "likes_per_user = person_likes_post['Person.id'].value_counts()\n",
    "\n",
    "# Counts comments per user\n",
    "comments_per_user = comment_hasCreator_person['Person.id'].value_counts()\n",
    "\n",
    "# Calculate the mean and median (summary statistics) for likes\n",
    "likes_mean, likes_median = likes_per_user.mean(), likes_per_user.median()\n",
    "\n",
    "# Calculates the mean and median for comments\n",
    "comments_mean, comments_median = comments_per_user.mean(), comments_per_user.median()\n",
    "\n",
    "# Creates subplots for displaying two histograms side by side\n",
    "# figsize(14, 6) creates a larger plot to fit both histograms\n",
    "fig, axes = plt.subplots(1, 2, figsize=(14, 6))\n",
    "\n",
    "# Histogram for Likes\n",
    "# This creates a histogram for likes with 30 bins and normalizes the values to show the density (total area under the histogram equals 1)\n",
    "axes[0].hist(likes_per_user, bins=30, color='skyblue', alpha=0.7, density=True)\n",
    "# Setting the title of the histogram, including the mean and median values for context\n",
    "axes[0].set_title(f'Likes Distribution (Mean: {likes_mean:.1f}, Median: {likes_median})')\n",
    "axes[0].set_xlabel('Number of Likes Given')\n",
    "axes[0].set_ylabel('Density')\n",
    "\n",
    "# Histogram for Comments\n",
    "# This creates a histogram for comments with 30 bins, normalizing the values to show the density\n",
    "axes[1].hist(comments_per_user, bins=30, color='lightgreen', alpha=0.7, density=True)\n",
    "# Setting the title of the histogram, including the mean and median values for context\n",
    "axes[1].set_title(f'Comments Distribution (Mean: {comments_mean:.1f}, Median: {comments_median})')\n",
    "# Adding x-axis label to describe what the histogram represents\n",
    "axes[1].set_xlabel('Number of Comments Given')\n",
    "# Adding y-axis label to describe what the histogram represents\n",
    "axes[1].set_ylabel('Density')\n",
    "\n",
    "# Adjust layout to make sure the histograms fit within the figure and do not overlap\n",
    "plt.tight_layout()\n",
    "\n",
    "# Display the histograms\n",
    "plt.show()"
   ]
  },
  {
   "cell_type": "markdown",
   "metadata": {},
   "source": [
    "## Analysis of Distributions\n",
    "\n",
    "### Likes Distribution:\n",
    "The histogram for likes per user shows a **left-skewed distribution**, where the majority of users have given a small number of likes. The distribution has a higher frequency of lower values on the left, and the number of likes exponentially decreases as we move to the right along the x-axis. This suggests that most users give only a few likes, while a small proportion of users contribute significantly more likes.\n",
    "\n",
    "### Comments Distribution:\n",
    "Similarly, the histogram for comments per user is also **left-skewed**. It exhibits a higher concentration of users who have given a relatively small number of comments, with the frequency of higher values decreasing exponentially along the x-axis. The pattern is consistent with the likes distribution, where the majority of users are less active in commenting, and only a small group of users have provided a larger number of comments."
   ]
  },
  {
   "cell_type": "markdown",
   "metadata": {},
   "source": [
    "# Question - 5. What is the Pearson correlation coefficient between the number of comments and the number of likes that users do on the social network? (4 points)\n",
    "\n",
    "Print out one number. \n",
    "\n",
    "\n",
    "\n",
    "**Tip:** You can calculate correlation coefficient using the following formula: \n",
    "Assume that x and y are two arrays of data, in this case number of likes and comments of each user. n is the number of users. \n",
    "\n",
    "**Bonus Tip:** Consider that some users might have liked posts, but not liked any comments, or vice versa.\n",
    "\n",
    "You can use whichever technique you would like for the question, as long as it has been discussed in lecture.\n",
    "\n",
    " \n",
    "\n",
    "\n",
    "\\begin{align*}\n",
    "r= {{ n(\\sum x y ) - (\\sum x ) (\\sum y)    } \\over { \\sqrt{ [ n \\sum x^2  -\n",
    "(\\sum x)^2 ] [ n\\sum y^2 - (\\sum y )^2 ] } } }\n",
    "\\end{align*}\n",
    "\n",
    "\n",
    "\n",
    "\n",
    "\n",
    "\n",
    "\n",
    "\n",
    "\n"
   ]
  },
  {
   "cell_type": "code",
   "execution_count": 9,
   "metadata": {},
   "outputs": [
    {
     "name": "stdout",
     "output_type": "stream",
     "text": [
      "0.9244\n"
     ]
    }
   ],
   "source": [
    "# Counts likes per user\n",
    "likes_per_user = person_likes_post['Person.id'].value_counts()\n",
    "\n",
    "# Counts comments per user\n",
    "comments_per_user = comment_hasCreator_person['Person.id'].value_counts()\n",
    "\n",
    "# Creates a DataFrame to merge both counts\n",
    "user_activity = pd.DataFrame({'Likes': likes_per_user, 'Comments': comments_per_user}).fillna(0)\n",
    "\n",
    "# Extracts x (likes) and y (comments)\n",
    "x = user_activity['Likes'].values\n",
    "y = user_activity['Comments'].values\n",
    "\n",
    "# Computes Pearson correlation coefficient\n",
    "correlation_coefficient = np.corrcoef(x, y)[0, 1]\n",
    "\n",
    "# Prints the result, rounded to 4 decimal places for clarity\n",
    "# Pearson correlation coefficient ranges from -1 to 1, where:\n",
    "# 1 indicates a perfect positive linear relationship\n",
    "# -1 indicates a perfect negative linear relationship\n",
    "# 0 indicates no linear relationship\n",
    "print(round(correlation_coefficient, 4))"
   ]
  },
  {
   "cell_type": "code",
   "execution_count": 10,
   "metadata": {},
   "outputs": [
    {
     "name": "stdout",
     "output_type": "stream",
     "text": [
      "In this case, a value of 0.9244 shows that there is a significant tendency for users who engage more with likes to also engage more with comments.\n",
      "This can be useful in understanding user behavior and can inform strategies for user engagement on the platform.\n"
     ]
    }
   ],
   "source": [
    "print(\"In this case, a value of 0.9244 shows that there is a significant tendency for users who engage more with likes to also engage more with comments.\")\n",
    "print(\"This can be useful in understanding user behavior and can inform strategies for user engagement on the platform.\")"
   ]
  }
 ],
 "metadata": {
  "kernelspec": {
   "display_name": "Python 3 (ipykernel)",
   "language": "python",
   "name": "python3"
  },
  "language_info": {
   "codemirror_mode": {
    "name": "ipython",
    "version": 3
   },
   "file_extension": ".py",
   "mimetype": "text/x-python",
   "name": "python",
   "nbconvert_exporter": "python",
   "pygments_lexer": "ipython3",
   "version": "3.9.6"
  }
 },
 "nbformat": 4,
 "nbformat_minor": 4
}
