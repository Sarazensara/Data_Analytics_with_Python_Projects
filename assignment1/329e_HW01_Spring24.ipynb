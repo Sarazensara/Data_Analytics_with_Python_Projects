{
 "cells": [
  {
   "cell_type": "markdown",
   "id": "18091208",
   "metadata": {},
   "source": [
    "# Homework 1\n",
    "CS 329E - Element of Data Analysis\n"
   ]
  },
  {
   "cell_type": "markdown",
   "id": "ef6efab2",
   "metadata": {},
   "source": [
    "## Your Name Here\n",
    "\n",
    "Student Name:Odette Saenz\n",
    "\n",
    "Student UT EID:oss286\n",
    "\n",
    "---\n",
    "\n",
    "Partner Name:Shruthi Garla\n",
    "\n",
    "Partner UT EID:\n",
    "\n",
    "---\n",
    "\n",
    "Date Created:01/25/25\n",
    "\n",
    "Date Last Modified:01/27/25\n",
    "\n",
    "---\n",
    "\n",
    "Totoal Points 20. "
   ]
  },
  {
   "cell_type": "markdown",
   "id": "1c8b4824",
   "metadata": {},
   "source": [
    "## Practice loading in data\n",
    "Using the file flights.csv load it into a pandas data frame"
   ]
  },
  {
   "cell_type": "code",
   "execution_count": 45,
   "id": "99964546",
   "metadata": {},
   "outputs": [],
   "source": [
    "import pandas as pd\n",
    "import numpy as np\n",
    "import matplotlib.pyplot as plt\n",
    "%matplotlib inline"
   ]
  },
  {
   "cell_type": "code",
   "execution_count": 46,
   "id": "68e17b19",
   "metadata": {
    "scrolled": true
   },
   "outputs": [
    {
     "data": {
      "text/html": [
       "<div>\n",
       "<style scoped>\n",
       "    .dataframe tbody tr th:only-of-type {\n",
       "        vertical-align: middle;\n",
       "    }\n",
       "\n",
       "    .dataframe tbody tr th {\n",
       "        vertical-align: top;\n",
       "    }\n",
       "\n",
       "    .dataframe thead th {\n",
       "        text-align: right;\n",
       "    }\n",
       "</style>\n",
       "<table border=\"1\" class=\"dataframe\">\n",
       "  <thead>\n",
       "    <tr style=\"text-align: right;\">\n",
       "      <th></th>\n",
       "      <th>YEAR</th>\n",
       "      <th>MONTH</th>\n",
       "      <th>DAY</th>\n",
       "      <th>DAY_OF_WEEK</th>\n",
       "      <th>AIRLINE</th>\n",
       "      <th>FLIGHT_NUMBER</th>\n",
       "      <th>TAIL_NUMBER</th>\n",
       "      <th>ORIGIN_AIRPORT</th>\n",
       "      <th>DESTINATION_AIRPORT</th>\n",
       "      <th>SCHEDULED_DEPARTURE</th>\n",
       "      <th>...</th>\n",
       "      <th>ARRIVAL_TIME</th>\n",
       "      <th>ARRIVAL_DELAY</th>\n",
       "      <th>DIVERTED</th>\n",
       "      <th>CANCELLED</th>\n",
       "      <th>CANCELLATION_REASON</th>\n",
       "      <th>AIR_SYSTEM_DELAY</th>\n",
       "      <th>SECURITY_DELAY</th>\n",
       "      <th>AIRLINE_DELAY</th>\n",
       "      <th>LATE_AIRCRAFT_DELAY</th>\n",
       "      <th>WEATHER_DELAY</th>\n",
       "    </tr>\n",
       "  </thead>\n",
       "  <tbody>\n",
       "    <tr>\n",
       "      <th>0</th>\n",
       "      <td>2015</td>\n",
       "      <td>1</td>\n",
       "      <td>1</td>\n",
       "      <td>4</td>\n",
       "      <td>AS</td>\n",
       "      <td>98</td>\n",
       "      <td>N407AS</td>\n",
       "      <td>ANC</td>\n",
       "      <td>SEA</td>\n",
       "      <td>5</td>\n",
       "      <td>...</td>\n",
       "      <td>408.0</td>\n",
       "      <td>-22.0</td>\n",
       "      <td>0</td>\n",
       "      <td>0</td>\n",
       "      <td>NaN</td>\n",
       "      <td>NaN</td>\n",
       "      <td>NaN</td>\n",
       "      <td>NaN</td>\n",
       "      <td>NaN</td>\n",
       "      <td>NaN</td>\n",
       "    </tr>\n",
       "    <tr>\n",
       "      <th>1</th>\n",
       "      <td>2015</td>\n",
       "      <td>1</td>\n",
       "      <td>1</td>\n",
       "      <td>4</td>\n",
       "      <td>AA</td>\n",
       "      <td>2336</td>\n",
       "      <td>N3KUAA</td>\n",
       "      <td>LAX</td>\n",
       "      <td>PBI</td>\n",
       "      <td>10</td>\n",
       "      <td>...</td>\n",
       "      <td>741.0</td>\n",
       "      <td>-9.0</td>\n",
       "      <td>0</td>\n",
       "      <td>0</td>\n",
       "      <td>NaN</td>\n",
       "      <td>NaN</td>\n",
       "      <td>NaN</td>\n",
       "      <td>NaN</td>\n",
       "      <td>NaN</td>\n",
       "      <td>NaN</td>\n",
       "    </tr>\n",
       "    <tr>\n",
       "      <th>2</th>\n",
       "      <td>2015</td>\n",
       "      <td>1</td>\n",
       "      <td>1</td>\n",
       "      <td>4</td>\n",
       "      <td>US</td>\n",
       "      <td>840</td>\n",
       "      <td>N171US</td>\n",
       "      <td>SFO</td>\n",
       "      <td>CLT</td>\n",
       "      <td>20</td>\n",
       "      <td>...</td>\n",
       "      <td>811.0</td>\n",
       "      <td>5.0</td>\n",
       "      <td>0</td>\n",
       "      <td>0</td>\n",
       "      <td>NaN</td>\n",
       "      <td>NaN</td>\n",
       "      <td>NaN</td>\n",
       "      <td>NaN</td>\n",
       "      <td>NaN</td>\n",
       "      <td>NaN</td>\n",
       "    </tr>\n",
       "    <tr>\n",
       "      <th>3</th>\n",
       "      <td>2015</td>\n",
       "      <td>1</td>\n",
       "      <td>1</td>\n",
       "      <td>4</td>\n",
       "      <td>AA</td>\n",
       "      <td>258</td>\n",
       "      <td>N3HYAA</td>\n",
       "      <td>LAX</td>\n",
       "      <td>MIA</td>\n",
       "      <td>20</td>\n",
       "      <td>...</td>\n",
       "      <td>756.0</td>\n",
       "      <td>-9.0</td>\n",
       "      <td>0</td>\n",
       "      <td>0</td>\n",
       "      <td>NaN</td>\n",
       "      <td>NaN</td>\n",
       "      <td>NaN</td>\n",
       "      <td>NaN</td>\n",
       "      <td>NaN</td>\n",
       "      <td>NaN</td>\n",
       "    </tr>\n",
       "    <tr>\n",
       "      <th>4</th>\n",
       "      <td>2015</td>\n",
       "      <td>1</td>\n",
       "      <td>1</td>\n",
       "      <td>4</td>\n",
       "      <td>AS</td>\n",
       "      <td>135</td>\n",
       "      <td>N527AS</td>\n",
       "      <td>SEA</td>\n",
       "      <td>ANC</td>\n",
       "      <td>25</td>\n",
       "      <td>...</td>\n",
       "      <td>259.0</td>\n",
       "      <td>-21.0</td>\n",
       "      <td>0</td>\n",
       "      <td>0</td>\n",
       "      <td>NaN</td>\n",
       "      <td>NaN</td>\n",
       "      <td>NaN</td>\n",
       "      <td>NaN</td>\n",
       "      <td>NaN</td>\n",
       "      <td>NaN</td>\n",
       "    </tr>\n",
       "    <tr>\n",
       "      <th>...</th>\n",
       "      <td>...</td>\n",
       "      <td>...</td>\n",
       "      <td>...</td>\n",
       "      <td>...</td>\n",
       "      <td>...</td>\n",
       "      <td>...</td>\n",
       "      <td>...</td>\n",
       "      <td>...</td>\n",
       "      <td>...</td>\n",
       "      <td>...</td>\n",
       "      <td>...</td>\n",
       "      <td>...</td>\n",
       "      <td>...</td>\n",
       "      <td>...</td>\n",
       "      <td>...</td>\n",
       "      <td>...</td>\n",
       "      <td>...</td>\n",
       "      <td>...</td>\n",
       "      <td>...</td>\n",
       "      <td>...</td>\n",
       "      <td>...</td>\n",
       "    </tr>\n",
       "    <tr>\n",
       "      <th>299995</th>\n",
       "      <td>2015</td>\n",
       "      <td>1</td>\n",
       "      <td>20</td>\n",
       "      <td>2</td>\n",
       "      <td>WN</td>\n",
       "      <td>651</td>\n",
       "      <td>N7734H</td>\n",
       "      <td>PIT</td>\n",
       "      <td>ATL</td>\n",
       "      <td>1615</td>\n",
       "      <td>...</td>\n",
       "      <td>1800.0</td>\n",
       "      <td>-10.0</td>\n",
       "      <td>0</td>\n",
       "      <td>0</td>\n",
       "      <td>NaN</td>\n",
       "      <td>NaN</td>\n",
       "      <td>NaN</td>\n",
       "      <td>NaN</td>\n",
       "      <td>NaN</td>\n",
       "      <td>NaN</td>\n",
       "    </tr>\n",
       "    <tr>\n",
       "      <th>299996</th>\n",
       "      <td>2015</td>\n",
       "      <td>1</td>\n",
       "      <td>20</td>\n",
       "      <td>2</td>\n",
       "      <td>AA</td>\n",
       "      <td>65</td>\n",
       "      <td>N3CSAA</td>\n",
       "      <td>JFK</td>\n",
       "      <td>DFW</td>\n",
       "      <td>1615</td>\n",
       "      <td>...</td>\n",
       "      <td>1908.0</td>\n",
       "      <td>-23.0</td>\n",
       "      <td>0</td>\n",
       "      <td>0</td>\n",
       "      <td>NaN</td>\n",
       "      <td>NaN</td>\n",
       "      <td>NaN</td>\n",
       "      <td>NaN</td>\n",
       "      <td>NaN</td>\n",
       "      <td>NaN</td>\n",
       "    </tr>\n",
       "    <tr>\n",
       "      <th>299997</th>\n",
       "      <td>2015</td>\n",
       "      <td>1</td>\n",
       "      <td>20</td>\n",
       "      <td>2</td>\n",
       "      <td>AA</td>\n",
       "      <td>165</td>\n",
       "      <td>N3LNAA</td>\n",
       "      <td>BOS</td>\n",
       "      <td>LAX</td>\n",
       "      <td>1615</td>\n",
       "      <td>...</td>\n",
       "      <td>1929.0</td>\n",
       "      <td>-20.0</td>\n",
       "      <td>0</td>\n",
       "      <td>0</td>\n",
       "      <td>NaN</td>\n",
       "      <td>NaN</td>\n",
       "      <td>NaN</td>\n",
       "      <td>NaN</td>\n",
       "      <td>NaN</td>\n",
       "      <td>NaN</td>\n",
       "    </tr>\n",
       "    <tr>\n",
       "      <th>299998</th>\n",
       "      <td>2015</td>\n",
       "      <td>1</td>\n",
       "      <td>20</td>\n",
       "      <td>2</td>\n",
       "      <td>AA</td>\n",
       "      <td>103</td>\n",
       "      <td>N437AA</td>\n",
       "      <td>MSY</td>\n",
       "      <td>DFW</td>\n",
       "      <td>1615</td>\n",
       "      <td>...</td>\n",
       "      <td>1758.0</td>\n",
       "      <td>0.0</td>\n",
       "      <td>0</td>\n",
       "      <td>0</td>\n",
       "      <td>NaN</td>\n",
       "      <td>NaN</td>\n",
       "      <td>NaN</td>\n",
       "      <td>NaN</td>\n",
       "      <td>NaN</td>\n",
       "      <td>NaN</td>\n",
       "    </tr>\n",
       "    <tr>\n",
       "      <th>299999</th>\n",
       "      <td>2015</td>\n",
       "      <td>1</td>\n",
       "      <td>20</td>\n",
       "      <td>2</td>\n",
       "      <td>AA</td>\n",
       "      <td>379</td>\n",
       "      <td>N860AA</td>\n",
       "      <td>SFO</td>\n",
       "      <td>DFW</td>\n",
       "      <td>1615</td>\n",
       "      <td>...</td>\n",
       "      <td>2109.0</td>\n",
       "      <td>-24.0</td>\n",
       "      <td>0</td>\n",
       "      <td>0</td>\n",
       "      <td>NaN</td>\n",
       "      <td>NaN</td>\n",
       "      <td>NaN</td>\n",
       "      <td>NaN</td>\n",
       "      <td>NaN</td>\n",
       "      <td>NaN</td>\n",
       "    </tr>\n",
       "  </tbody>\n",
       "</table>\n",
       "<p>300000 rows × 31 columns</p>\n",
       "</div>"
      ],
      "text/plain": [
       "        YEAR  MONTH  DAY  DAY_OF_WEEK AIRLINE  FLIGHT_NUMBER TAIL_NUMBER  \\\n",
       "0       2015      1    1            4      AS             98      N407AS   \n",
       "1       2015      1    1            4      AA           2336      N3KUAA   \n",
       "2       2015      1    1            4      US            840      N171US   \n",
       "3       2015      1    1            4      AA            258      N3HYAA   \n",
       "4       2015      1    1            4      AS            135      N527AS   \n",
       "...      ...    ...  ...          ...     ...            ...         ...   \n",
       "299995  2015      1   20            2      WN            651      N7734H   \n",
       "299996  2015      1   20            2      AA             65      N3CSAA   \n",
       "299997  2015      1   20            2      AA            165      N3LNAA   \n",
       "299998  2015      1   20            2      AA            103      N437AA   \n",
       "299999  2015      1   20            2      AA            379      N860AA   \n",
       "\n",
       "       ORIGIN_AIRPORT DESTINATION_AIRPORT  SCHEDULED_DEPARTURE  ...  \\\n",
       "0                 ANC                 SEA                    5  ...   \n",
       "1                 LAX                 PBI                   10  ...   \n",
       "2                 SFO                 CLT                   20  ...   \n",
       "3                 LAX                 MIA                   20  ...   \n",
       "4                 SEA                 ANC                   25  ...   \n",
       "...               ...                 ...                  ...  ...   \n",
       "299995            PIT                 ATL                 1615  ...   \n",
       "299996            JFK                 DFW                 1615  ...   \n",
       "299997            BOS                 LAX                 1615  ...   \n",
       "299998            MSY                 DFW                 1615  ...   \n",
       "299999            SFO                 DFW                 1615  ...   \n",
       "\n",
       "        ARRIVAL_TIME  ARRIVAL_DELAY  DIVERTED  CANCELLED  CANCELLATION_REASON  \\\n",
       "0              408.0          -22.0         0          0                  NaN   \n",
       "1              741.0           -9.0         0          0                  NaN   \n",
       "2              811.0            5.0         0          0                  NaN   \n",
       "3              756.0           -9.0         0          0                  NaN   \n",
       "4              259.0          -21.0         0          0                  NaN   \n",
       "...              ...            ...       ...        ...                  ...   \n",
       "299995        1800.0          -10.0         0          0                  NaN   \n",
       "299996        1908.0          -23.0         0          0                  NaN   \n",
       "299997        1929.0          -20.0         0          0                  NaN   \n",
       "299998        1758.0            0.0         0          0                  NaN   \n",
       "299999        2109.0          -24.0         0          0                  NaN   \n",
       "\n",
       "        AIR_SYSTEM_DELAY  SECURITY_DELAY  AIRLINE_DELAY  LATE_AIRCRAFT_DELAY  \\\n",
       "0                    NaN             NaN            NaN                  NaN   \n",
       "1                    NaN             NaN            NaN                  NaN   \n",
       "2                    NaN             NaN            NaN                  NaN   \n",
       "3                    NaN             NaN            NaN                  NaN   \n",
       "4                    NaN             NaN            NaN                  NaN   \n",
       "...                  ...             ...            ...                  ...   \n",
       "299995               NaN             NaN            NaN                  NaN   \n",
       "299996               NaN             NaN            NaN                  NaN   \n",
       "299997               NaN             NaN            NaN                  NaN   \n",
       "299998               NaN             NaN            NaN                  NaN   \n",
       "299999               NaN             NaN            NaN                  NaN   \n",
       "\n",
       "        WEATHER_DELAY  \n",
       "0                 NaN  \n",
       "1                 NaN  \n",
       "2                 NaN  \n",
       "3                 NaN  \n",
       "4                 NaN  \n",
       "...               ...  \n",
       "299995            NaN  \n",
       "299996            NaN  \n",
       "299997            NaN  \n",
       "299998            NaN  \n",
       "299999            NaN  \n",
       "\n",
       "[300000 rows x 31 columns]"
      ]
     },
     "execution_count": 46,
     "metadata": {},
     "output_type": "execute_result"
    }
   ],
   "source": [
    "df = pd.read_csv('flightsSmall30k.csv')\n",
    "df"
   ]
  },
  {
   "cell_type": "code",
   "execution_count": 4,
   "id": "8a4a157b",
   "metadata": {},
   "outputs": [
    {
     "name": "stdout",
     "output_type": "stream",
     "text": [
      "<class 'pandas.core.frame.DataFrame'>\n",
      "RangeIndex: 300000 entries, 0 to 299999\n",
      "Data columns (total 31 columns):\n",
      " #   Column               Non-Null Count   Dtype  \n",
      "---  ------               --------------   -----  \n",
      " 0   YEAR                 300000 non-null  int64  \n",
      " 1   MONTH                300000 non-null  int64  \n",
      " 2   DAY                  300000 non-null  int64  \n",
      " 3   DAY_OF_WEEK          300000 non-null  int64  \n",
      " 4   AIRLINE              300000 non-null  object \n",
      " 5   FLIGHT_NUMBER        300000 non-null  int64  \n",
      " 6   TAIL_NUMBER          299505 non-null  object \n",
      " 7   ORIGIN_AIRPORT       300000 non-null  object \n",
      " 8   DESTINATION_AIRPORT  300000 non-null  object \n",
      " 9   SCHEDULED_DEPARTURE  300000 non-null  int64  \n",
      " 10  DEPARTURE_TIME       294561 non-null  float64\n",
      " 11  DEPARTURE_DELAY      294561 non-null  float64\n",
      " 12  TAXI_OUT             294390 non-null  float64\n",
      " 13  WHEELS_OFF           294390 non-null  float64\n",
      " 14  SCHEDULED_TIME       300000 non-null  int64  \n",
      " 15  ELAPSED_TIME         293634 non-null  float64\n",
      " 16  AIR_TIME             293634 non-null  float64\n",
      " 17  DISTANCE             300000 non-null  int64  \n",
      " 18  WHEELS_ON            294130 non-null  float64\n",
      " 19  TAXI_IN              294130 non-null  float64\n",
      " 20  SCHEDULED_ARRIVAL    300000 non-null  int64  \n",
      " 21  ARRIVAL_TIME         294130 non-null  float64\n",
      " 22  ARRIVAL_DELAY        293634 non-null  float64\n",
      " 23  DIVERTED             300000 non-null  int64  \n",
      " 24  CANCELLED            300000 non-null  int64  \n",
      " 25  CANCELLATION_REASON  5686 non-null    object \n",
      " 26  AIR_SYSTEM_DELAY     72243 non-null   float64\n",
      " 27  SECURITY_DELAY       72243 non-null   float64\n",
      " 28  AIRLINE_DELAY        72243 non-null   float64\n",
      " 29  LATE_AIRCRAFT_DELAY  72243 non-null   float64\n",
      " 30  WEATHER_DELAY        72243 non-null   float64\n",
      "dtypes: float64(15), int64(11), object(5)\n",
      "memory usage: 71.0+ MB\n"
     ]
    }
   ],
   "source": [
    "df.info()"
   ]
  },
  {
   "cell_type": "markdown",
   "id": "d627807d",
   "metadata": {},
   "source": [
    "## Q1 - How many unique Airlines are there in this dataset? (2 points)"
   ]
  },
  {
   "cell_type": "code",
   "execution_count": 47,
   "id": "7b9e636f",
   "metadata": {},
   "outputs": [
    {
     "name": "stdout",
     "output_type": "stream",
     "text": [
      "Number of unique airlines: 14\n"
     ]
    }
   ],
   "source": [
    "# Counts the number of unique airlines\n",
    "unique_airlines_count = df['AIRLINE'].nunique()\n",
    "print(f\"Number of unique airlines: {unique_airlines_count}\")"
   ]
  },
  {
   "cell_type": "markdown",
   "id": "6c924608",
   "metadata": {},
   "source": [
    "## Q2 - What is the mean departure delay of all flights considering only the positive departure delay values? (2 points)\n",
    "Negative delay value means that the flight left earlier than scheduled. \n",
    "\n",
    "\n"
   ]
  },
  {
   "cell_type": "code",
   "execution_count": 48,
   "id": "681a41da",
   "metadata": {},
   "outputs": [
    {
     "name": "stdout",
     "output_type": "stream",
     "text": [
      "Mean departure delay (positive values only): 34.80 minutes\n"
     ]
    }
   ],
   "source": [
    "# Filters the dataset to include only positive departure delay values\n",
    "positive_delays = df[df['DEPARTURE_DELAY'] > 0]\n",
    "\n",
    "# Calculate the mean of the positive departure delay values\n",
    "mean_positive_delay = positive_delays['DEPARTURE_DELAY'].mean()\n",
    "\n",
    "print(f\"Mean departure delay (positive values only): {mean_positive_delay:.2f} minutes\")"
   ]
  },
  {
   "cell_type": "markdown",
   "id": "10ef3f38",
   "metadata": {},
   "source": [
    "# Q3 - Find a list of all airport (Origin or destination airports). (2 points)\n",
    "The returned value should be a list in Python. \n"
   ]
  },
  {
   "cell_type": "code",
   "execution_count": 49,
   "id": "f9b93f54",
   "metadata": {},
   "outputs": [
    {
     "name": "stdout",
     "output_type": "stream",
     "text": [
      "List of all unique airports: ['ANC', 'LAX', 'SFO', 'SEA', 'LAS', 'DEN', 'SLC', 'PDX', 'FAI', 'MSP', 'PHX', 'SJU', 'PBG', 'IAG', 'PSE', 'BQN', 'ORD', 'GEG', 'HNL', 'ONT', 'MCO', 'BOS', 'HIB', 'ABR', 'MAF', 'DFW', 'MKE', 'IAH', 'BNA', 'BRO', 'VPS', 'BOI', 'BJI', 'SGF', 'PHL', 'SBN', 'RDD', 'EUG', 'IAD', 'BUF', 'PWM', 'JFK', 'CRP', 'PIA', 'FAT', 'SMF', 'AUS', 'MCI', 'ATL', 'JAX', 'MFR', 'IDA', 'MSN', 'DCA', 'SAT', 'CHS', 'SBA', 'SMX', 'IND', 'CLE', 'GSP', 'BDL', 'ABI', 'RIC', 'BFL', 'OMA', 'RDM', 'FLL', 'CID', 'TPA', 'SYR', 'ROC', 'TYR', 'LAN', 'XNA', 'GSO', 'EWR', 'PBI', 'RSW', 'OAK', 'PVD', 'RNO', 'PIT', 'ABQ', 'MIA', 'BWI', 'LGA', 'TUL', 'LIT', 'MSY', 'OKC', 'ATW', 'PNS', 'MEM', 'TYS', 'MHT', 'SAV', 'CLT', 'GRB', 'ABE', 'JAN', 'OAJ', 'FAR', 'ERI', 'LEX', 'CWA', 'MSO', 'TTN', 'AMA', 'CLL', 'HOU', 'JLN', 'MLI', 'RDU', 'CVG', 'MHK', 'MOB', 'TLH', 'BHM', 'CAE', 'TXK', 'ACY', 'DTW', 'RAP', 'TUS', 'EAU', 'DLH', 'FSD', 'INL', 'CMX', 'SPI', 'CLD', 'COD', 'CMH', 'LRD', 'PSC', 'CPR', 'ACV', 'DAL', 'PAH', 'MRY', 'ESC', 'ISN', 'PSP', 'MFE', 'STL', 'BTV', 'FSM', 'AEX', 'SPS', 'ACT', 'SJT', 'MTJ', 'GCC', 'OGG', 'SJC', 'GUC', 'ORF', 'MOT', 'MLU', 'KOA', 'SAN', 'LAW', 'PIB', 'MGM', 'SBP', 'COS', 'LAR', 'DRO', 'BIS', 'ITO', 'BTR', 'GRI', 'HLN', 'BZN', 'MDW', 'MDT', 'SCE', 'LIH', 'TWF', 'BPT', 'GPT', 'STC', 'HPN', 'MLB', 'PLN', 'CIU', 'CAK', 'DSM', 'BLI', 'SHV', 'ROW', 'FWA', 'SNA', 'ALB', 'HOB', 'LNK', 'CMI', 'COU', 'GTF', 'EKO', 'LGB', 'AVL', 'HSV', 'SAF', 'GRR', 'SUX', 'LFT', 'HYS', 'ELP', 'DVL', 'ISP', 'BUR', 'DAB', 'DAY', 'GRK', 'GJT', 'BMI', 'LBE', 'ASE', 'RKS', 'GUM', 'TVC', 'ALO', 'IMT', 'LCH', 'JNU', 'JAC', 'MEI', 'DBQ', 'GCK', 'GNV', 'BRD', 'DIK', 'SDF', 'LBB', 'AVP', 'BTM', 'ELM', 'PIH', 'ICT', 'SUN', 'LWS', 'VEL', 'STT', 'YUM', 'FLG', 'FCA', 'HDN', 'JMS', 'ROA', 'CHA', 'EYW', 'MYR', 'CRW', 'MQT', 'CHO', 'ECP', 'EVV', 'EGE', 'MBS', 'GFK', 'TOL', 'BIL', 'OTZ', 'KTN', 'STX', 'ILM', 'PUB', 'RHI', 'CDC', 'HRL', 'SCC', 'FNT', 'LSE', 'MMH', 'APN', 'AGS', 'CEC', 'DHN', 'WRG', 'PHF', 'CNY', 'BRW', 'GGG', 'AZO', 'SRQ', 'ORH', 'TRI', 'VLD', 'SIT', 'BQK', 'PSG', 'FAY', 'MKG', 'CSG', 'EWN', 'OME', 'SGU', 'RST', 'GTR', 'BET', 'ABY', 'SWF', 'ILG', 'ADK', 'UST', 'YAK', 'CDV', 'OTH', 'ADQ', 'PPG']\n"
     ]
    }
   ],
   "source": [
    "# Combine the origin and destination airport columns, then find unique values\n",
    "unique_airports = pd.concat([df['ORIGIN_AIRPORT'], df['DESTINATION_AIRPORT']]).unique()\n",
    "\n",
    "# Convert the result to a Python list\n",
    "unique_airports_list = unique_airports.tolist()\n",
    "\n",
    "print(f\"List of all unique airports: {unique_airports_list}\")"
   ]
  },
  {
   "cell_type": "markdown",
   "id": "b1e9f005",
   "metadata": {},
   "source": [
    "# Q4 - Find out which origin airport has the largest departure delay on Weekends. (2 points)\n",
    "Weekend days have the IDs of DAY_OF_WEEK 6 and 7. \n"
   ]
  },
  {
   "cell_type": "code",
   "execution_count": 50,
   "id": "9e3c35c6",
   "metadata": {},
   "outputs": [
    {
     "name": "stdout",
     "output_type": "stream",
     "text": [
      "The origin airport with the largest departure delay on weekends is: LAS\n",
      "Largest departure delay: 1604.0 minutes\n"
     ]
    }
   ],
   "source": [
    "# Filters data for weekends (DAY_OF_WEEK 6 and 7)\n",
    "weekend_flights = df[df['DAY_OF_WEEK'].isin([6, 7])]\n",
    "\n",
    "# Finds the maximum departure delay and the corresponding origin airport\n",
    "max_delay_row = weekend_flights.loc[weekend_flights['DEPARTURE_DELAY'].idxmax()]\n",
    "\n",
    "# Extracts the origin airport with the largest departure delay\n",
    "largest_delay_airport = max_delay_row['ORIGIN_AIRPORT']\n",
    "largest_delay_value = max_delay_row['DEPARTURE_DELAY']\n",
    "\n",
    "print(f\"The origin airport with the largest departure delay on weekends is: {largest_delay_airport}\")\n",
    "print(f\"Largest departure delay: {largest_delay_value} minutes\")"
   ]
  },
  {
   "cell_type": "markdown",
   "id": "e08ea118",
   "metadata": {},
   "source": [
    "# Q5 - Find the top 3 Airlines which had the largest mean departure delay in the month of January (2 points)\n",
    "Month of January has the id of 1. Consider only flights with the positive departure delay. "
   ]
  },
  {
   "cell_type": "code",
   "execution_count": 52,
   "id": "448df603",
   "metadata": {
    "scrolled": true
   },
   "outputs": [
    {
     "name": "stdout",
     "output_type": "stream",
     "text": [
      "Top 3 airlines with the largest mean departure delay in January:\n",
      "AIRLINE\n",
      "F9    51.338608\n",
      "OO    46.357307\n",
      "MQ    46.133754\n",
      "Name: DEPARTURE_DELAY, dtype: float64\n"
     ]
    }
   ],
   "source": [
    "# Filters data for January (MONTH == 1) and positive departure delays\n",
    "january_positive_delays = df[(df['MONTH'] == 1) & (df['DEPARTURE_DELAY'] > 0)]\n",
    "\n",
    "# Groups by airline and calculate the mean departure delay\n",
    "mean_delay_per_airline = january_positive_delays.groupby('AIRLINE')['DEPARTURE_DELAY'].mean()\n",
    "\n",
    "# Sorts the airlines by the mean delay in descending order and get the top 3\n",
    "top_3_airlines = mean_delay_per_airline.sort_values(ascending=False).head(3)\n",
    "\n",
    "print(\"Top 3 airlines with the largest mean departure delay in January:\")\n",
    "print(top_3_airlines)"
   ]
  },
  {
   "cell_type": "markdown",
   "id": "8597d834",
   "metadata": {},
   "source": [
    "## Q6 - What percentage of flights out of Austin (AUS) are canceled? (2 points)\n",
    "The column field \"CANCELLED\" will be equal to one of the flight is cancelled. "
   ]
  },
  {
   "cell_type": "code",
   "execution_count": 53,
   "id": "1f8c82db",
   "metadata": {},
   "outputs": [
    {
     "name": "stdout",
     "output_type": "stream",
     "text": [
      "Percentage of flights out of Austin (AUS) that are canceled: 1.53%\n"
     ]
    }
   ],
   "source": [
    "# Filters data for flights originating from Austin (AUS)\n",
    "austin_flights = df[df['ORIGIN_AIRPORT'] == 'AUS']\n",
    "\n",
    "# Calculates the total number of flights out of Austin\n",
    "total_austin_flights = austin_flights.shape[0]\n",
    "\n",
    "# Calculates the number of canceled flights out of Austin (CANCELLED == 1)\n",
    "canceled_austin_flights = austin_flights[austin_flights['CANCELLED'] == 1].shape[0]\n",
    "\n",
    "# Calculates the percentage of canceled flights\n",
    "canceled_percentage = (canceled_austin_flights / total_austin_flights) * 100\n",
    "\n",
    "print(f\"Percentage of flights out of Austin (AUS) that are canceled: {canceled_percentage:.2f}%\")"
   ]
  },
  {
   "cell_type": "markdown",
   "id": "fd991a67",
   "metadata": {},
   "source": [
    "# Q7 - Which origin airport has the most cancellation of departure flights? (2 points)\n"
   ]
  },
  {
   "cell_type": "code",
   "execution_count": 54,
   "id": "5bcdd8f1",
   "metadata": {},
   "outputs": [
    {
     "name": "stdout",
     "output_type": "stream",
     "text": [
      "The origin airport with the most cancellations is: ORD\n",
      "Number of cancellations: 843\n"
     ]
    }
   ],
   "source": [
    "# Filters data for canceled flights (CANCELLED == 1)\n",
    "canceled_flights = df[df['CANCELLED'] == 1]\n",
    "\n",
    "# Groups by origin airport and count the number of canceled flights per airport\n",
    "canceled_count_per_airport = canceled_flights.groupby('ORIGIN_AIRPORT').size()\n",
    "\n",
    "# Finds the origin airport with the most cancellations\n",
    "most_canceled_airport = canceled_count_per_airport.idxmax()\n",
    "most_canceled_count = canceled_count_per_airport.max()\n",
    "\n",
    "print(f\"The origin airport with the most cancellations is: {most_canceled_airport}\")\n",
    "print(f\"Number of cancellations: {most_canceled_count}\")"
   ]
  },
  {
   "cell_type": "markdown",
   "id": "10a47962",
   "metadata": {},
   "source": [
    "## Q8 - Create a histogram plot that shows the data distribution of the arrival delays consider only positive arrival delays and smaller than 200 minutes. Use 10 minutes bin/bucket size. (2 points)"
   ]
  },
  {
   "cell_type": "code",
   "execution_count": 64,
   "id": "1e64dcd8",
   "metadata": {},
   "outputs": [
    {
     "data": {
      "image/png": "[encoded data removed]",
      "text/plain": [
       "<Figure size 1000x600 with 1 Axes>"
      ]
     },
     "metadata": {},
     "output_type": "display_data"
    }
   ],
   "source": [
    "import matplotlib.pyplot as plt\n",
    "\n",
    "# Filters the data for positive arrival delays smaller than 200 minutes\n",
    "positive_arrival_delays = df[(df['ARRIVAL_DELAY'] > 0) & (df['ARRIVAL_DELAY'] < 200)]\n",
    "\n",
    "# Plots histogram with 10-minute bins\n",
    "plt.figure(figsize=(10, 6))\n",
    "plt.hist(positive_arrival_delays['ARRIVAL_DELAY'], bins=range(0, 201, 10), edgecolor='green')\n",
    "plt.title('Distribution of Arrival Delays (Positive and < 200 minutes)', fontsize=14)\n",
    "plt.xlabel('Arrival Delay (minutes)', fontsize=12)\n",
    "plt.ylabel('Frequency', fontsize=12)\n",
    "plt.grid(True)\n",
    "plt.show()"
   ]
  },
  {
   "cell_type": "markdown",
   "id": "544bc7be",
   "metadata": {},
   "source": [
    "## Q9 -  Plot a scatter plot of  flight travel air time and distance. Describe if there is any corrolation between them. (2 points)\n",
    "\n",
    "Describe and interpret the correlation between the two variables of distance and air travel time. "
   ]
  },
  {
   "cell_type": "code",
   "execution_count": 62,
   "id": "3558bbe9",
   "metadata": {},
   "outputs": [
    {
     "data": {
      "image/png": "[encoded data removed]",
      "text/plain": [
       "<Figure size 1000x600 with 1 Axes>"
      ]
     },
     "metadata": {},
     "output_type": "display_data"
    }
   ],
   "source": [
    "import matplotlib.pyplot as plt\n",
    "\n",
    "# Plots a scatter plot of air time vs. distance\n",
    "plt.figure(figsize=(10, 6))\n",
    "plt.scatter(df['DISTANCE'], df['AIR_TIME'], alpha=0.5, color='green')\n",
    "plt.title('Scatter Plot of Air Time vs Distance', fontsize=14)\n",
    "plt.xlabel('Distance (miles)', fontsize=12)\n",
    "plt.ylabel('Air Time (minutes)', fontsize=12)\n",
    "plt.grid(True)\n",
    "plt.show()"
   ]
  },
  {
   "cell_type": "markdown",
   "id": "6c8473d8",
   "metadata": {},
   "source": [
    "There esxists a positive correlation with distance in miles and air time. The greater the distance, the more time it is required in air time in minutes to achive such distance. "
   ]
  },
  {
   "cell_type": "markdown",
   "id": "54344bbf",
   "metadata": {},
   "source": [
    "# Using the Airpot Dataset. "
   ]
  },
  {
   "cell_type": "code",
   "execution_count": 57,
   "id": "bd8f2d34",
   "metadata": {},
   "outputs": [
    {
     "data": {
      "text/html": [
       "<div>\n",
       "<style scoped>\n",
       "    .dataframe tbody tr th:only-of-type {\n",
       "        vertical-align: middle;\n",
       "    }\n",
       "\n",
       "    .dataframe tbody tr th {\n",
       "        vertical-align: top;\n",
       "    }\n",
       "\n",
       "    .dataframe thead th {\n",
       "        text-align: right;\n",
       "    }\n",
       "</style>\n",
       "<table border=\"1\" class=\"dataframe\">\n",
       "  <thead>\n",
       "    <tr style=\"text-align: right;\">\n",
       "      <th></th>\n",
       "      <th>iata</th>\n",
       "      <th>airport</th>\n",
       "      <th>city</th>\n",
       "      <th>state</th>\n",
       "      <th>country</th>\n",
       "      <th>lat</th>\n",
       "      <th>long</th>\n",
       "    </tr>\n",
       "  </thead>\n",
       "  <tbody>\n",
       "    <tr>\n",
       "      <th>0</th>\n",
       "      <td>00M</td>\n",
       "      <td>Thigpen</td>\n",
       "      <td>Bay Springs</td>\n",
       "      <td>MS</td>\n",
       "      <td>USA</td>\n",
       "      <td>31.953765</td>\n",
       "      <td>-89.234505</td>\n",
       "    </tr>\n",
       "    <tr>\n",
       "      <th>1</th>\n",
       "      <td>00R</td>\n",
       "      <td>Livingston Municipal</td>\n",
       "      <td>Livingston</td>\n",
       "      <td>TX</td>\n",
       "      <td>USA</td>\n",
       "      <td>30.685861</td>\n",
       "      <td>-95.017928</td>\n",
       "    </tr>\n",
       "    <tr>\n",
       "      <th>2</th>\n",
       "      <td>00V</td>\n",
       "      <td>Meadow Lake</td>\n",
       "      <td>Colorado Springs</td>\n",
       "      <td>CO</td>\n",
       "      <td>USA</td>\n",
       "      <td>38.945749</td>\n",
       "      <td>-104.569893</td>\n",
       "    </tr>\n",
       "    <tr>\n",
       "      <th>3</th>\n",
       "      <td>01G</td>\n",
       "      <td>Perry-Warsaw</td>\n",
       "      <td>Perry</td>\n",
       "      <td>NY</td>\n",
       "      <td>USA</td>\n",
       "      <td>42.741347</td>\n",
       "      <td>-78.052081</td>\n",
       "    </tr>\n",
       "    <tr>\n",
       "      <th>4</th>\n",
       "      <td>01J</td>\n",
       "      <td>Hilliard Airpark</td>\n",
       "      <td>Hilliard</td>\n",
       "      <td>FL</td>\n",
       "      <td>USA</td>\n",
       "      <td>30.688012</td>\n",
       "      <td>-81.905944</td>\n",
       "    </tr>\n",
       "    <tr>\n",
       "      <th>...</th>\n",
       "      <td>...</td>\n",
       "      <td>...</td>\n",
       "      <td>...</td>\n",
       "      <td>...</td>\n",
       "      <td>...</td>\n",
       "      <td>...</td>\n",
       "      <td>...</td>\n",
       "    </tr>\n",
       "    <tr>\n",
       "      <th>3371</th>\n",
       "      <td>ZEF</td>\n",
       "      <td>Elkin Municipal</td>\n",
       "      <td>Elkin</td>\n",
       "      <td>NC</td>\n",
       "      <td>USA</td>\n",
       "      <td>36.280024</td>\n",
       "      <td>-80.786069</td>\n",
       "    </tr>\n",
       "    <tr>\n",
       "      <th>3372</th>\n",
       "      <td>ZER</td>\n",
       "      <td>Schuylkill Cty/Joe Zerbey</td>\n",
       "      <td>Pottsville</td>\n",
       "      <td>PA</td>\n",
       "      <td>USA</td>\n",
       "      <td>40.706449</td>\n",
       "      <td>-76.373147</td>\n",
       "    </tr>\n",
       "    <tr>\n",
       "      <th>3373</th>\n",
       "      <td>ZPH</td>\n",
       "      <td>Zephyrhills Municipal</td>\n",
       "      <td>Zephyrhills</td>\n",
       "      <td>FL</td>\n",
       "      <td>USA</td>\n",
       "      <td>28.228065</td>\n",
       "      <td>-82.155916</td>\n",
       "    </tr>\n",
       "    <tr>\n",
       "      <th>3374</th>\n",
       "      <td>ZUN</td>\n",
       "      <td>Black Rock</td>\n",
       "      <td>Zuni</td>\n",
       "      <td>NM</td>\n",
       "      <td>USA</td>\n",
       "      <td>35.083227</td>\n",
       "      <td>-108.791777</td>\n",
       "    </tr>\n",
       "    <tr>\n",
       "      <th>3375</th>\n",
       "      <td>ZZV</td>\n",
       "      <td>Zanesville Municipal</td>\n",
       "      <td>Zanesville</td>\n",
       "      <td>OH</td>\n",
       "      <td>USA</td>\n",
       "      <td>39.944458</td>\n",
       "      <td>-81.892105</td>\n",
       "    </tr>\n",
       "  </tbody>\n",
       "</table>\n",
       "<p>3376 rows × 7 columns</p>\n",
       "</div>"
      ],
      "text/plain": [
       "     iata                    airport              city state country  \\\n",
       "0     00M                   Thigpen        Bay Springs    MS     USA   \n",
       "1     00R       Livingston Municipal        Livingston    TX     USA   \n",
       "2     00V                Meadow Lake  Colorado Springs    CO     USA   \n",
       "3     01G               Perry-Warsaw             Perry    NY     USA   \n",
       "4     01J           Hilliard Airpark          Hilliard    FL     USA   \n",
       "...   ...                        ...               ...   ...     ...   \n",
       "3371  ZEF            Elkin Municipal             Elkin    NC     USA   \n",
       "3372  ZER  Schuylkill Cty/Joe Zerbey        Pottsville    PA     USA   \n",
       "3373  ZPH      Zephyrhills Municipal       Zephyrhills    FL     USA   \n",
       "3374  ZUN                 Black Rock              Zuni    NM     USA   \n",
       "3375  ZZV       Zanesville Municipal        Zanesville    OH     USA   \n",
       "\n",
       "            lat        long  \n",
       "0     31.953765  -89.234505  \n",
       "1     30.685861  -95.017928  \n",
       "2     38.945749 -104.569893  \n",
       "3     42.741347  -78.052081  \n",
       "4     30.688012  -81.905944  \n",
       "...         ...         ...  \n",
       "3371  36.280024  -80.786069  \n",
       "3372  40.706449  -76.373147  \n",
       "3373  28.228065  -82.155916  \n",
       "3374  35.083227 -108.791777  \n",
       "3375  39.944458  -81.892105  \n",
       "\n",
       "[3376 rows x 7 columns]"
      ]
     },
     "execution_count": 57,
     "metadata": {},
     "output_type": "execute_result"
    }
   ],
   "source": [
    "# We access the dataset directly from our class GitHub repository. \n",
    "# We use the same dataset as in Example 3\n",
    "# https://github.com/kiat/Elements-of-Data-Analytics/blob/main/Code-Example-003-Pandas-Dataframe-Loading-Data.ipynb\n",
    "\n",
    "airports = pd.read_csv(\"https://raw.githubusercontent.com/kiat/Elements-of-Data-Analytics/main/datasets/airline/airports.csv\") \n",
    "\n",
    "airports"
   ]
  },
  {
   "cell_type": "code",
   "execution_count": 58,
   "id": "130ba6e4",
   "metadata": {},
   "outputs": [
    {
     "name": "stdout",
     "output_type": "stream",
     "text": [
      "<class 'pandas.core.frame.DataFrame'>\n",
      "RangeIndex: 3376 entries, 0 to 3375\n",
      "Data columns (total 7 columns):\n",
      " #   Column   Non-Null Count  Dtype  \n",
      "---  ------   --------------  -----  \n",
      " 0   iata     3376 non-null   object \n",
      " 1   airport  3376 non-null   object \n",
      " 2   city     3364 non-null   object \n",
      " 3   state    3364 non-null   object \n",
      " 4   country  3376 non-null   object \n",
      " 5   lat      3376 non-null   float64\n",
      " 6   long     3376 non-null   float64\n",
      "dtypes: float64(2), object(5)\n",
      "memory usage: 184.8+ KB\n"
     ]
    }
   ],
   "source": [
    "airports.info()"
   ]
  },
  {
   "cell_type": "markdown",
   "id": "021c86fa",
   "metadata": {},
   "source": [
    "# Question - 10: Which top-3 destination cities has the highest average departure delays on Weekends? (2 points)\n",
    "\n",
    "* Consider only the positive departure delays. \n",
    "* Weekend flights have a day of week of 6 and 7\n",
    "* You need to merge the airport dataset with the flight dataset to get the destination city of each flight\n",
    "* You need to group by city and calculate the mean departure delays \n",
    "* At the end print out the top 3 of the departure delays with the average delays"
   ]
  },
  {
   "cell_type": "code",
   "execution_count": 63,
   "id": "ae812f38",
   "metadata": {},
   "outputs": [
    {
     "data": {
      "text/plain": [
       "city\n",
       "Aberdeen       359.25\n",
       "Pocatello      270.00\n",
       "Devils Lake    235.50\n",
       "Name: DEPARTURE_DELAY, dtype: float64"
      ]
     },
     "execution_count": 63,
     "metadata": {},
     "output_type": "execute_result"
    }
   ],
   "source": [
    "# Filters the dataframe to include only flights that experienced a departure delay\n",
    "df = df[df['DEPARTURE_DELAY']>0]\n",
    "\n",
    "# Creates a new dataframe with flights that occurred on weekends (Saturday and Sunday)\n",
    "df_flights_weekend = df[df['DAY_OF_WEEK'].isin([6,7])]\n",
    "\n",
    "# Merges the weekend flights dataframe with the airports dataframe to add airport details\n",
    "# The merge is based on the origin airport code ('ORIGIN_AIRPORT') and the 'iata' code from the airports dataframe\n",
    "# A left join ensures that all flights in the weekend dataset remain, even if no match is found in the airports dataframe\n",
    "df_merged = df_flights_weekend.merge(airports,left_on = 'ORIGIN_AIRPORT', right_on='iata',how = 'left')\n",
    "\n",
    "# Groups the merged dataframe by the city and calculates the average departure delay for each city\n",
    "avg_delays_by_city = df_merged.groupby('city')['DEPARTURE_DELAY'].mean()\n",
    "\n",
    "# Sorts the cities by their average departure delay in descending order and displays the top 3 cities with the longest delays\n",
    "avg_delays_by_city.sort_values(ascending=False).head(3)"
   ]
  }
 ],
 "metadata": {
  "kernelspec": {
   "display_name": "Python (myenv)",
   "language": "python",
   "name": "myenv"
  },
  "language_info": {
   "codemirror_mode": {
    "name": "ipython",
    "version": 3
   },
   "file_extension": ".py",
   "mimetype": "text/x-python",
   "name": "python",
   "nbconvert_exporter": "python",
   "pygments_lexer": "ipython3",
   "version": "3.9.6"
  }
 },
 "nbformat": 4,
 "nbformat_minor": 5
}
